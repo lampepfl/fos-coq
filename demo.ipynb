{
 "cells": [
  {
   "cell_type": "markdown",
   "metadata": {
    "coq_kernel_metadata": {
     "auto_roll_back": true
    }
   },
   "source": [
    "# A Short Introduction to Coq\n",
    "\n",
    "\n",
    "In this tutorial, we are going to play with [Coq](https://coq.inria.fr/), which is a popular proof assitant based on solid [type theories](https://en.wikipedia.org/wiki/Calculus_of_constructions).\n",
    "\n",
    "This tutorial contains the following content:\n",
    "\n",
    "- Basic functional programming in Coq\n",
    "- Review of Curry-Howard correspondence\n",
    "- Proof by tatics\n",
    "- The equivalence between LEM and DNE\n",
    "- The soundness of STLC\n",
    "\n",
    "In the above, LEM refers to the [law of excluded middle](https://en.wikipedia.org/wiki/Law_of_excluded_middle), DNE refers to the [law of double negation](https://en.wikipedia.org/wiki/Double_negation).\n",
    "\n",
    "After this tutorial, we hope that\n",
    "\n",
    "- you have a better understanding of Curry-Howard corespondence and its role in Coq\n",
    "- you can do simple proofs in Coq\n",
    "\n"
   ]
  },
  {
   "cell_type": "markdown",
   "metadata": {
    "coq_kernel_metadata": {
     "auto_roll_back": true
    }
   },
   "source": [
    "## Basic Functional Programming in Coq"
   ]
  },
  {
   "cell_type": "markdown",
   "metadata": {
    "coq_kernel_metadata": {
     "auto_roll_back": true
    }
   },
   "source": [
    "The core of Coq is a functional programming language, called Gallina. It offers features like _algebraic data types_, _pattern matching_, _parametric polymorphism_, as commonly supported by functional languages."
   ]
  },
  {
   "cell_type": "markdown",
   "metadata": {
    "coq_kernel_metadata": {
     "auto_roll_back": true
    }
   },
   "source": [
    "We create a playground, so that the names will not clash with definitions from Coq."
   ]
  },
  {
   "cell_type": "code",
   "execution_count": 21,
   "metadata": {
    "coq_kernel_metadata": {
     "auto_roll_back": true,
     "cell_id": "4c0466f6dded48938635928a9717e44a",
     "evaluated": true,
     "execution_id": "cd9614d89d7640558cca29a09d20d0be",
     "rolled_back": true
    }
   },
   "outputs": [
    {
     "data": {
      "text/html": [
       "\n",
       "<div class=\"coq_kernel_rich_cell_output coq_kernel_status_message_area coq_kernel_rolled_back_status_message\" style=\"padding: 5px 0px;\">\n",
       "    <i class=\"fa-exclamation-circle fa text-info\"></i>\n",
       "    <span>Cell rolled back.</span>\n",
       "</div>\n"
      ],
      "text/plain": [
       "Cell rolled back."
      ]
     },
     "execution_count": 25,
     "metadata": {
      "coq_kernel_evaluated": true,
      "coq_kernel_execution_id": "cd9614d89d7640558cca29a09d20d0be",
      "coq_kernel_rolled_back": true
     },
     "output_type": "execute_result"
    }
   ],
   "source": [
    "Module Playground."
   ]
  },
  {
   "cell_type": "markdown",
   "metadata": {
    "coq_kernel_metadata": {
     "auto_roll_back": true
    }
   },
   "source": [
    "We may define a type for booleans as follows:"
   ]
  },
  {
   "cell_type": "code",
   "execution_count": 1,
   "metadata": {
    "coq_kernel_metadata": {
     "auto_roll_back": false,
     "cell_id": "46331f36fd8f4c8e862b4edd58d725df",
     "evaluated": true,
     "execution_id": "165774dc8af64cb8b4ea7572d549e626",
     "rolled_back": false
    },
    "scrolled": true
   },
   "outputs": [
    {
     "data": {
      "text/html": [
       "\n",
       "<div class=\"coq_kernel_output_area\">\n",
       "    <pre></pre>\n",
       "</div>\n",
       "\n",
       "<div class=\"coq_kernel_rich_cell_output coq_kernel_status_message_area\" style=\"padding: 5px 0px;\">\n",
       "    <i class=\"fa-check fa text-success\"></i>\n",
       "    <span>Cell evaluated.</span>\n",
       "</div>\n",
       "\n",
       "<div class=\"coq_kernel_rich_cell_output coq_kernel_status_message_area coq_kernel_rolled_back_status_message\" style=\"padding: 5px 0px; display: none;\">\n",
       "    <i class=\"fa-exclamation-circle fa text-info\"></i>\n",
       "    <span>Cell rolled back.</span>\n",
       "</div>\n",
       "\n",
       "<div class=\"coq_kernel_rich_cell_output coq_kernel_roll_back_controls_area\" style=\"display: none; position: relative;\">\n",
       "    <button class=\"btn btn-default btn-xs coq_kernel_roll_back_button\" onclick=\"CoqKernel.roll_back(this)\">\n",
       "        <i class=\"fa-step-backward fa\"></i>\n",
       "        <span class=\"toolbar-btn-label\">Rollback cell</span>\n",
       "    </button>\n",
       "\n",
       "    <div style=\"display: inline-block; vertical-align: middle; padding-left: 0; padding-right: 0;\">\n",
       "      <input class=\"coq_kernel_auto_roll_back_checkbox\" type=\"checkbox\" value=\"\" onchange=\"CoqKernel.toggle_auto_roll_back(this)\" checked>\n",
       "      <label\">Auto rollback</label>\n",
       "    </div>\n",
       "</div>\n"
      ],
      "text/plain": []
     },
     "execution_count": 26,
     "metadata": {
      "coq_kernel_evaluated": true,
      "coq_kernel_execution_id": "165774dc8af64cb8b4ea7572d549e626",
      "coq_kernel_rolled_back": false
     },
     "output_type": "execute_result"
    }
   ],
   "source": [
    "Inductive bool : Type :=\n",
    "  | true\n",
    "  | false."
   ]
  },
  {
   "cell_type": "markdown",
   "metadata": {
    "coq_kernel_metadata": {
     "auto_roll_back": true
    }
   },
   "source": [
    "With the definition above, we can define the common boolean operations:"
   ]
  },
  {
   "cell_type": "code",
   "execution_count": 26,
   "metadata": {
    "coq_kernel_metadata": {
     "auto_roll_back": false,
     "cell_id": "3377f8bbd8fa43ef84c1f2f33d0a8f39",
     "evaluated": true,
     "execution_id": "4d180f33ff8d4edf8da4dbc59c68b5d2",
     "rolled_back": false
    }
   },
   "outputs": [
    {
     "data": {
      "text/html": [
       "\n",
       "<div class=\"coq_kernel_output_area\">\n",
       "    <pre></pre>\n",
       "</div>\n",
       "\n",
       "<div class=\"coq_kernel_rich_cell_output coq_kernel_status_message_area\" style=\"padding: 5px 0px;\">\n",
       "    <i class=\"fa-check fa text-success\"></i>\n",
       "    <span>Cell evaluated.</span>\n",
       "</div>\n",
       "\n",
       "<div class=\"coq_kernel_rich_cell_output coq_kernel_status_message_area coq_kernel_rolled_back_status_message\" style=\"padding: 5px 0px; display: none;\">\n",
       "    <i class=\"fa-exclamation-circle fa text-info\"></i>\n",
       "    <span>Cell rolled back.</span>\n",
       "</div>\n",
       "\n",
       "<div class=\"coq_kernel_rich_cell_output coq_kernel_roll_back_controls_area\" style=\"display: none; position: relative;\">\n",
       "    <button class=\"btn btn-default btn-xs coq_kernel_roll_back_button\" onclick=\"CoqKernel.roll_back(this)\">\n",
       "        <i class=\"fa-step-backward fa\"></i>\n",
       "        <span class=\"toolbar-btn-label\">Rollback cell</span>\n",
       "    </button>\n",
       "\n",
       "    <div style=\"display: inline-block; vertical-align: middle; padding-left: 0; padding-right: 0;\">\n",
       "      <input class=\"coq_kernel_auto_roll_back_checkbox\" type=\"checkbox\" value=\"\" onchange=\"CoqKernel.toggle_auto_roll_back(this)\" checked>\n",
       "      <label\">Auto rollback</label>\n",
       "    </div>\n",
       "</div>\n"
      ],
      "text/plain": []
     },
     "execution_count": 29,
     "metadata": {
      "coq_kernel_evaluated": true,
      "coq_kernel_execution_id": "4d180f33ff8d4edf8da4dbc59c68b5d2",
      "coq_kernel_rolled_back": false
     },
     "output_type": "execute_result"
    }
   ],
   "source": [
    "Definition negb (b:bool) : bool :=\n",
    "  match b with\n",
    "  | true => false\n",
    "  | false => true\n",
    "  end.\n",
    "Definition andb (b1:bool) (b2:bool) : bool :=\n",
    "  match b1 with\n",
    "  | true => b2\n",
    "  | false => false\n",
    "  end.\n",
    "Definition orb (b1:bool) (b2:bool) : bool :=\n",
    "  match b1 with\n",
    "  | true => true\n",
    "  | false => b2\n",
    "  end."
   ]
  },
  {
   "cell_type": "markdown",
   "metadata": {
    "coq_kernel_metadata": {
     "auto_roll_back": true
    }
   },
   "source": [
    "Natural numbers can be defined as follows:"
   ]
  },
  {
   "cell_type": "code",
   "execution_count": 29,
   "metadata": {
    "coq_kernel_metadata": {
     "auto_roll_back": false,
     "cell_id": "343dd1e624924c2794f8b9223450303b",
     "evaluated": true,
     "execution_id": "355b7a5a853341228a62c75d43aba0ac",
     "rolled_back": false
    }
   },
   "outputs": [
    {
     "data": {
      "text/html": [
       "\n",
       "<div class=\"coq_kernel_output_area\">\n",
       "    <pre></pre>\n",
       "</div>\n",
       "\n",
       "<div class=\"coq_kernel_rich_cell_output coq_kernel_status_message_area\" style=\"padding: 5px 0px;\">\n",
       "    <i class=\"fa-check fa text-success\"></i>\n",
       "    <span>Cell evaluated.</span>\n",
       "</div>\n",
       "\n",
       "<div class=\"coq_kernel_rich_cell_output coq_kernel_status_message_area coq_kernel_rolled_back_status_message\" style=\"padding: 5px 0px; display: none;\">\n",
       "    <i class=\"fa-exclamation-circle fa text-info\"></i>\n",
       "    <span>Cell rolled back.</span>\n",
       "</div>\n",
       "\n",
       "<div class=\"coq_kernel_rich_cell_output coq_kernel_roll_back_controls_area\" style=\"display: none; position: relative;\">\n",
       "    <button class=\"btn btn-default btn-xs coq_kernel_roll_back_button\" onclick=\"CoqKernel.roll_back(this)\">\n",
       "        <i class=\"fa-step-backward fa\"></i>\n",
       "        <span class=\"toolbar-btn-label\">Rollback cell</span>\n",
       "    </button>\n",
       "\n",
       "    <div style=\"display: inline-block; vertical-align: middle; padding-left: 0; padding-right: 0;\">\n",
       "      <input class=\"coq_kernel_auto_roll_back_checkbox\" type=\"checkbox\" value=\"\" onchange=\"CoqKernel.toggle_auto_roll_back(this)\" checked>\n",
       "      <label\">Auto rollback</label>\n",
       "    </div>\n",
       "</div>\n"
      ],
      "text/plain": []
     },
     "execution_count": 30,
     "metadata": {
      "coq_kernel_evaluated": true,
      "coq_kernel_execution_id": "355b7a5a853341228a62c75d43aba0ac",
      "coq_kernel_rolled_back": false
     },
     "output_type": "execute_result"
    }
   ],
   "source": [
    "Inductive nat : Type :=\n",
    "  | O\n",
    "  | S (n : nat)."
   ]
  },
  {
   "cell_type": "markdown",
   "metadata": {
    "coq_kernel_metadata": {
     "auto_roll_back": true,
     "cell_id": "5b8b284d00834d098471635ef10068f4",
     "evaluated": false,
     "execution_id": "93025c91cb7f40c484657134fecca622",
     "rolled_back": false
    }
   },
   "source": [
    "Now we can define the predecessor function:"
   ]
  },
  {
   "cell_type": "code",
   "execution_count": 30,
   "metadata": {
    "coq_kernel_metadata": {
     "auto_roll_back": false,
     "cell_id": "7de7c627ecb444fda12c1d9e1d2b87f5",
     "evaluated": true,
     "execution_id": "e3295a74f06746789a80989f1012a9a1",
     "rolled_back": false
    }
   },
   "outputs": [
    {
     "data": {
      "text/html": [
       "\n",
       "<div class=\"coq_kernel_output_area\">\n",
       "    <pre></pre>\n",
       "</div>\n",
       "\n",
       "<div class=\"coq_kernel_rich_cell_output coq_kernel_status_message_area\" style=\"padding: 5px 0px;\">\n",
       "    <i class=\"fa-check fa text-success\"></i>\n",
       "    <span>Cell evaluated.</span>\n",
       "</div>\n",
       "\n",
       "<div class=\"coq_kernel_rich_cell_output coq_kernel_status_message_area coq_kernel_rolled_back_status_message\" style=\"padding: 5px 0px; display: none;\">\n",
       "    <i class=\"fa-exclamation-circle fa text-info\"></i>\n",
       "    <span>Cell rolled back.</span>\n",
       "</div>\n",
       "\n",
       "<div class=\"coq_kernel_rich_cell_output coq_kernel_roll_back_controls_area\" style=\"display: none; position: relative;\">\n",
       "    <button class=\"btn btn-default btn-xs coq_kernel_roll_back_button\" onclick=\"CoqKernel.roll_back(this)\">\n",
       "        <i class=\"fa-step-backward fa\"></i>\n",
       "        <span class=\"toolbar-btn-label\">Rollback cell</span>\n",
       "    </button>\n",
       "\n",
       "    <div style=\"display: inline-block; vertical-align: middle; padding-left: 0; padding-right: 0;\">\n",
       "      <input class=\"coq_kernel_auto_roll_back_checkbox\" type=\"checkbox\" value=\"\" onchange=\"CoqKernel.toggle_auto_roll_back(this)\" checked>\n",
       "      <label\">Auto rollback</label>\n",
       "    </div>\n",
       "</div>\n"
      ],
      "text/plain": []
     },
     "execution_count": 31,
     "metadata": {
      "coq_kernel_evaluated": true,
      "coq_kernel_execution_id": "e3295a74f06746789a80989f1012a9a1",
      "coq_kernel_rolled_back": false
     },
     "output_type": "execute_result"
    }
   ],
   "source": [
    "Definition pred (n : nat) : nat :=\n",
    "  match n with\n",
    "    | O => O\n",
    "    | S n' => n'\n",
    "  end."
   ]
  },
  {
   "cell_type": "markdown",
   "metadata": {
    "coq_kernel_metadata": {
     "auto_roll_back": true
    }
   },
   "source": [
    "Let's now define a function that doubles its argument:"
   ]
  },
  {
   "cell_type": "code",
   "execution_count": 31,
   "metadata": {
    "coq_kernel_metadata": {
     "auto_roll_back": true,
     "cell_id": "b99c9ab874a14da783513001365f7cad",
     "evaluated": false,
     "execution_id": "9beba12147374182859e5e11497ab89a",
     "rolled_back": false
    }
   },
   "outputs": [
    {
     "data": {
      "text/html": [
       "\n",
       "<div class=\"coq_kernel_output_area\">\n",
       "    <pre>Error: The reference double was not found in the current environment.</pre>\n",
       "</div>\n",
       "\n",
       "<div class=\"coq_kernel_rich_cell_output coq_kernel_status_message_area\" style=\"padding: 5px 0px;\">\n",
       "    <i class=\"fa-times fa text-danger\"></i>\n",
       "    <span>Error while evaluating cell. Cell rolled back.</span>\n",
       "</div>\n"
      ],
      "text/plain": [
       "Error: The reference double was not found in the current environment."
      ]
     },
     "execution_count": 31,
     "metadata": {
      "coq_kernel_evaluated": false,
      "coq_kernel_execution_id": "9beba12147374182859e5e11497ab89a",
      "coq_kernel_rolled_back": false
     },
     "output_type": "execute_result"
    }
   ],
   "source": [
    "Definition double (n : nat) : nat :=\n",
    "  match n with\n",
    "    | O => O\n",
    "    | S n' => S (S (double n'))\n",
    "  end."
   ]
  },
  {
   "cell_type": "markdown",
   "metadata": {
    "coq_kernel_metadata": {
     "auto_roll_back": true
    }
   },
   "source": [
    "Oops! Coq complains that `double` was not found. We need to use the keyword `Fixpoint`:"
   ]
  },
  {
   "cell_type": "code",
   "execution_count": 31,
   "metadata": {
    "coq_kernel_metadata": {
     "auto_roll_back": false,
     "cell_id": "b0ce1ffe8c31426589f2b1101012e5bf",
     "evaluated": true,
     "execution_id": "2447eb43e41a430b80ec40298f058283",
     "rolled_back": false
    },
    "scrolled": true
   },
   "outputs": [
    {
     "data": {
      "text/html": [
       "\n",
       "<div class=\"coq_kernel_output_area\">\n",
       "    <pre></pre>\n",
       "</div>\n",
       "\n",
       "<div class=\"coq_kernel_rich_cell_output coq_kernel_status_message_area\" style=\"padding: 5px 0px;\">\n",
       "    <i class=\"fa-check fa text-success\"></i>\n",
       "    <span>Cell evaluated.</span>\n",
       "</div>\n",
       "\n",
       "<div class=\"coq_kernel_rich_cell_output coq_kernel_status_message_area coq_kernel_rolled_back_status_message\" style=\"padding: 5px 0px; display: none;\">\n",
       "    <i class=\"fa-exclamation-circle fa text-info\"></i>\n",
       "    <span>Cell rolled back.</span>\n",
       "</div>\n",
       "\n",
       "<div class=\"coq_kernel_rich_cell_output coq_kernel_roll_back_controls_area\" style=\"display: none; position: relative;\">\n",
       "    <button class=\"btn btn-default btn-xs coq_kernel_roll_back_button\" onclick=\"CoqKernel.roll_back(this)\">\n",
       "        <i class=\"fa-step-backward fa\"></i>\n",
       "        <span class=\"toolbar-btn-label\">Rollback cell</span>\n",
       "    </button>\n",
       "\n",
       "    <div style=\"display: inline-block; vertical-align: middle; padding-left: 0; padding-right: 0;\">\n",
       "      <input class=\"coq_kernel_auto_roll_back_checkbox\" type=\"checkbox\" value=\"\" onchange=\"CoqKernel.toggle_auto_roll_back(this)\" checked>\n",
       "      <label\">Auto rollback</label>\n",
       "    </div>\n",
       "</div>\n"
      ],
      "text/plain": []
     },
     "execution_count": 33,
     "metadata": {
      "coq_kernel_evaluated": true,
      "coq_kernel_execution_id": "2447eb43e41a430b80ec40298f058283",
      "coq_kernel_rolled_back": false
     },
     "output_type": "execute_result"
    }
   ],
   "source": [
    "Fixpoint double (n : nat) : nat :=\n",
    "  match n with\n",
    "    | O => O\n",
    "    | S n' => S (S (double n'))\n",
    "  end."
   ]
  },
  {
   "cell_type": "markdown",
   "metadata": {
    "coq_kernel_metadata": {
     "auto_roll_back": true
    }
   },
   "source": [
    "Why the complexity? The reason is that in the above, `double` is a recursive function. You might remember from TAPL that unrestricted general recursion can make any type inhabited. By Curry-Howard correspondance, it means that any proposition can be proved true!\n",
    "\n",
    "Consequently, recursive functions must terminate in order to be accepted by Coq. Coq uses a simple mechanism to check termination of recursive calls, namely _structural recursion_: the recursive call must take an argument which is _structurally_ smaller."
   ]
  },
  {
   "cell_type": "code",
   "execution_count": 33,
   "metadata": {
    "coq_kernel_metadata": {
     "auto_roll_back": false,
     "cell_id": "bed33fc29b0c462c9968595163e0f385",
     "evaluated": true,
     "execution_id": "966b93dd73c342b7b3f189e2b31165a6",
     "rolled_back": false
    }
   },
   "outputs": [
    {
     "data": {
      "text/html": [
       "\n",
       "<div class=\"coq_kernel_output_area\">\n",
       "    <pre></pre>\n",
       "</div>\n",
       "\n",
       "<div class=\"coq_kernel_rich_cell_output coq_kernel_status_message_area\" style=\"padding: 5px 0px;\">\n",
       "    <i class=\"fa-check fa text-success\"></i>\n",
       "    <span>Cell evaluated.</span>\n",
       "</div>\n",
       "\n",
       "<div class=\"coq_kernel_rich_cell_output coq_kernel_status_message_area coq_kernel_rolled_back_status_message\" style=\"padding: 5px 0px; display: none;\">\n",
       "    <i class=\"fa-exclamation-circle fa text-info\"></i>\n",
       "    <span>Cell rolled back.</span>\n",
       "</div>\n",
       "\n",
       "<div class=\"coq_kernel_rich_cell_output coq_kernel_roll_back_controls_area\" style=\"display: none; position: relative;\">\n",
       "    <button class=\"btn btn-default btn-xs coq_kernel_roll_back_button\" onclick=\"CoqKernel.roll_back(this)\">\n",
       "        <i class=\"fa-step-backward fa\"></i>\n",
       "        <span class=\"toolbar-btn-label\">Rollback cell</span>\n",
       "    </button>\n",
       "\n",
       "    <div style=\"display: inline-block; vertical-align: middle; padding-left: 0; padding-right: 0;\">\n",
       "      <input class=\"coq_kernel_auto_roll_back_checkbox\" type=\"checkbox\" value=\"\" onchange=\"CoqKernel.toggle_auto_roll_back(this)\" checked>\n",
       "      <label\">Auto rollback</label>\n",
       "    </div>\n",
       "</div>\n"
      ],
      "text/plain": []
     },
     "execution_count": 34,
     "metadata": {
      "coq_kernel_evaluated": true,
      "coq_kernel_execution_id": "966b93dd73c342b7b3f189e2b31165a6",
      "coq_kernel_rolled_back": false
     },
     "output_type": "execute_result"
    }
   ],
   "source": [
    "Fixpoint plus (n : nat) (m : nat) : nat :=\n",
    "  match n with\n",
    "    | O => m\n",
    "    | S n' => S (plus n' m)\n",
    "  end."
   ]
  },
  {
   "cell_type": "code",
   "execution_count": 34,
   "metadata": {
    "coq_kernel_metadata": {
     "auto_roll_back": false,
     "cell_id": "0d66defd94344649864cc139711b0b9f",
     "evaluated": true,
     "execution_id": "f12cec9a1c2845128f7f3a4f1ed256ad",
     "rolled_back": false
    }
   },
   "outputs": [
    {
     "data": {
      "text/html": [
       "\n",
       "<div class=\"coq_kernel_output_area\">\n",
       "    <pre></pre>\n",
       "</div>\n",
       "\n",
       "<div class=\"coq_kernel_rich_cell_output coq_kernel_status_message_area\" style=\"padding: 5px 0px;\">\n",
       "    <i class=\"fa-check fa text-success\"></i>\n",
       "    <span>Cell evaluated.</span>\n",
       "</div>\n",
       "\n",
       "<div class=\"coq_kernel_rich_cell_output coq_kernel_status_message_area coq_kernel_rolled_back_status_message\" style=\"padding: 5px 0px; display: none;\">\n",
       "    <i class=\"fa-exclamation-circle fa text-info\"></i>\n",
       "    <span>Cell rolled back.</span>\n",
       "</div>\n",
       "\n",
       "<div class=\"coq_kernel_rich_cell_output coq_kernel_roll_back_controls_area\" style=\"display: none; position: relative;\">\n",
       "    <button class=\"btn btn-default btn-xs coq_kernel_roll_back_button\" onclick=\"CoqKernel.roll_back(this)\">\n",
       "        <i class=\"fa-step-backward fa\"></i>\n",
       "        <span class=\"toolbar-btn-label\">Rollback cell</span>\n",
       "    </button>\n",
       "\n",
       "    <div style=\"display: inline-block; vertical-align: middle; padding-left: 0; padding-right: 0;\">\n",
       "      <input class=\"coq_kernel_auto_roll_back_checkbox\" type=\"checkbox\" value=\"\" onchange=\"CoqKernel.toggle_auto_roll_back(this)\" checked>\n",
       "      <label\">Auto rollback</label>\n",
       "    </div>\n",
       "</div>\n"
      ],
      "text/plain": []
     },
     "execution_count": 35,
     "metadata": {
      "coq_kernel_evaluated": true,
      "coq_kernel_execution_id": "f12cec9a1c2845128f7f3a4f1ed256ad",
      "coq_kernel_rolled_back": false
     },
     "output_type": "execute_result"
    }
   ],
   "source": [
    "Module Playground."
   ]
  },
  {
   "cell_type": "markdown",
   "metadata": {
    "coq_kernel_metadata": {
     "auto_roll_back": true
    }
   },
   "source": [
    "**Exercise 1**: Factorial\n",
    "\n",
    "Please implement the `factorial` function given below:"
   ]
  },
  {
   "cell_type": "code",
   "execution_count": 35,
   "metadata": {
    "coq_kernel_metadata": {
     "auto_roll_back": false,
     "cell_id": "75d6222697b4413da1abf6ba4e3f12a9",
     "evaluated": true,
     "execution_id": "335ba3204a194f9584c7df3e8ba263ac",
     "rolled_back": false
    }
   },
   "outputs": [
    {
     "data": {
      "text/html": [
       "\n",
       "<div class=\"coq_kernel_output_area\">\n",
       "    <pre></pre>\n",
       "</div>\n",
       "\n",
       "<div class=\"coq_kernel_rich_cell_output coq_kernel_status_message_area\" style=\"padding: 5px 0px;\">\n",
       "    <i class=\"fa-check fa text-success\"></i>\n",
       "    <span>Cell evaluated.</span>\n",
       "</div>\n",
       "\n",
       "<div class=\"coq_kernel_rich_cell_output coq_kernel_status_message_area coq_kernel_rolled_back_status_message\" style=\"padding: 5px 0px; display: none;\">\n",
       "    <i class=\"fa-exclamation-circle fa text-info\"></i>\n",
       "    <span>Cell rolled back.</span>\n",
       "</div>\n",
       "\n",
       "<div class=\"coq_kernel_rich_cell_output coq_kernel_roll_back_controls_area\" style=\"display: none; position: relative;\">\n",
       "    <button class=\"btn btn-default btn-xs coq_kernel_roll_back_button\" onclick=\"CoqKernel.roll_back(this)\">\n",
       "        <i class=\"fa-step-backward fa\"></i>\n",
       "        <span class=\"toolbar-btn-label\">Rollback cell</span>\n",
       "    </button>\n",
       "\n",
       "    <div style=\"display: inline-block; vertical-align: middle; padding-left: 0; padding-right: 0;\">\n",
       "      <input class=\"coq_kernel_auto_roll_back_checkbox\" type=\"checkbox\" value=\"\" onchange=\"CoqKernel.toggle_auto_roll_back(this)\" checked>\n",
       "      <label\">Auto rollback</label>\n",
       "    </div>\n",
       "</div>\n"
      ],
      "text/plain": []
     },
     "execution_count": 37,
     "metadata": {
      "coq_kernel_evaluated": true,
      "coq_kernel_execution_id": "335ba3204a194f9584c7df3e8ba263ac",
      "coq_kernel_rolled_back": false
     },
     "output_type": "execute_result"
    }
   ],
   "source": [
    "Fixpoint factorial (n:nat) : nat\n",
    "  (* := ??? *). Admitted."
   ]
  },
  {
   "cell_type": "markdown",
   "metadata": {
    "coq_kernel_metadata": {
     "auto_roll_back": true
    }
   },
   "source": [
    "## Review of Curry-Howard correspondence"
   ]
  },
  {
   "cell_type": "code",
   "execution_count": null,
   "metadata": {
    "coq_kernel_metadata": {
     "auto_roll_back": true
    }
   },
   "outputs": [],
   "source": [
    "We may define a type for booleans as follows:"
   ]
  },
  {
   "cell_type": "markdown",
   "metadata": {
    "coq_kernel_metadata": {
     "auto_roll_back": true
    }
   },
   "source": [
    "## Introduction to proofs by tatics"
   ]
  },
  {
   "cell_type": "markdown",
   "metadata": {
    "coq_kernel_metadata": {
     "auto_roll_back": true
    }
   },
   "source": [
    "## The equivalence between LEM and DNE"
   ]
  },
  {
   "cell_type": "markdown",
   "metadata": {
    "coq_kernel_metadata": {
     "auto_roll_back": true
    }
   },
   "source": [
    "## The soundness of STLC"
   ]
  },
  {
   "cell_type": "markdown",
   "metadata": {
    "coq_kernel_metadata": {
     "auto_roll_back": true
    }
   },
   "source": [
    "## Going further"
   ]
  },
  {
   "cell_type": "code",
   "execution_count": 1,
   "metadata": {
    "coq_kernel_metadata": {
     "auto_roll_back": true,
     "cell_id": "6ab791695db242c197caf2db985476de",
     "execution_id": "0337dd6b408e4eaa8f74445f51ab0298"
    }
   },
   "outputs": [
    {
     "data": {
      "text/html": [
       "\n",
       "<div class=\"coq_kernel_output_area\">\n",
       "    <pre>Proving: implication\n",
       "\n",
       "1 subgoal\n",
       "\n",
       "1/1 -----------\n",
       "forall A B : Prop, A -> (A -> B) -> B</pre>\n",
       "</div>\n",
       "\n",
       "<div class=\"coq_kernel_rich_cell_output coq_kernel_status_message_area\" style=\"padding: 5px 0px;\">\n",
       "    <i class=\"fa-check fa text-success\"></i>\n",
       "    <span>Cell evaluated.</span>\n",
       "</div>\n",
       "\n",
       "<div class=\"coq_kernel_rich_cell_output coq_kernel_status_message_area coq_kernel_rolled_back_status_message\" style=\"padding: 5px 0px; display: none;\">\n",
       "    <i class=\"fa-exclamation-circle fa text-info\"></i>\n",
       "    <span>Cell rolled back.</span>\n",
       "</div>\n",
       "\n",
       "<div class=\"coq_kernel_rich_cell_output coq_kernel_roll_back_controls_area\" style=\"display: none; position: relative;\">\n",
       "    <button class=\"btn btn-default btn-xs coq_kernel_roll_back_button\" onclick=\"CoqKernel.roll_back(this)\">\n",
       "        <i class=\"fa-step-backward fa\"></i>\n",
       "        <span class=\"toolbar-btn-label\">Rollback cell</span>\n",
       "    </button>\n",
       "\n",
       "    <div style=\"display: inline-block; vertical-align: middle; padding-left: 0; padding-right: 0;\">\n",
       "      <input class=\"coq_kernel_auto_roll_back_checkbox\" type=\"checkbox\" value=\"\" onchange=\"CoqKernel.toggle_auto_roll_back(this)\" checked>\n",
       "      <label\">Auto rollback</label>\n",
       "    </div>\n",
       "</div>\n"
      ],
      "text/plain": [
       "Proving: implication\n",
       "\n",
       "1 subgoal\n",
       "\n",
       "1/1 -----------\n",
       "forall A B : Prop, A -> (A -> B) -> B"
      ]
     },
     "execution_count": 2,
     "metadata": {
      "coq_kernel_evaluated": true,
      "coq_kernel_execution_id": "0337dd6b408e4eaa8f74445f51ab0298",
      "coq_kernel_rolled_back": false
     },
     "output_type": "execute_result"
    }
   ],
   "source": [
    "Theorem implication :\n",
    "  forall A B : Prop,\n",
    "  A ->\n",
    "  (A -> B) ->\n",
    "  B\n",
    "."
   ]
  },
  {
   "cell_type": "code",
   "execution_count": 2,
   "metadata": {
    "coq_kernel_metadata": {
     "auto_roll_back": true,
     "cell_id": "412deb32d12a41bbbff7d0b1b99c8c55",
     "execution_id": "5926e563d0b24d3ea30e1f490d0d8460"
    }
   },
   "outputs": [
    {
     "data": {
      "text/html": [
       "\n",
       "<div class=\"coq_kernel_output_area\">\n",
       "    <pre></pre>\n",
       "</div>\n",
       "\n",
       "<div class=\"coq_kernel_rich_cell_output coq_kernel_status_message_area\" style=\"padding: 5px 0px;\">\n",
       "    <i class=\"fa-check fa text-success\"></i>\n",
       "    <span>Cell evaluated.</span>\n",
       "</div>\n",
       "\n",
       "<div class=\"coq_kernel_rich_cell_output coq_kernel_status_message_area coq_kernel_rolled_back_status_message\" style=\"padding: 5px 0px; display: none;\">\n",
       "    <i class=\"fa-exclamation-circle fa text-info\"></i>\n",
       "    <span>Cell rolled back.</span>\n",
       "</div>\n",
       "\n",
       "<div class=\"coq_kernel_rich_cell_output coq_kernel_roll_back_controls_area\" style=\"display: none; position: relative;\">\n",
       "    <button class=\"btn btn-default btn-xs coq_kernel_roll_back_button\" onclick=\"CoqKernel.roll_back(this)\">\n",
       "        <i class=\"fa-step-backward fa\"></i>\n",
       "        <span class=\"toolbar-btn-label\">Rollback cell</span>\n",
       "    </button>\n",
       "\n",
       "    <div style=\"display: inline-block; vertical-align: middle; padding-left: 0; padding-right: 0;\">\n",
       "      <input class=\"coq_kernel_auto_roll_back_checkbox\" type=\"checkbox\" value=\"\" onchange=\"CoqKernel.toggle_auto_roll_back(this)\" checked>\n",
       "      <label\">Auto rollback</label>\n",
       "    </div>\n",
       "</div>\n"
      ],
      "text/plain": []
     },
     "execution_count": 9,
     "metadata": {
      "coq_kernel_evaluated": true,
      "coq_kernel_execution_id": "5926e563d0b24d3ea30e1f490d0d8460",
      "coq_kernel_rolled_back": false
     },
     "output_type": "execute_result"
    }
   ],
   "source": [
    "Proof.\n",
    "  intros A B.\n",
    "  intros proof_of_A.\n",
    "  intros A_implies_B.\n",
    "  pose (proof_of_B := A_implies_B proof_of_A).\n",
    "  exact proof_of_B.\n",
    "Qed."
   ]
  }
 ],
 "metadata": {
  "kernelspec": {
   "display_name": "Coq",
   "language": "coq",
   "name": "coq"
  },
  "language_info": {
   "file_extension": ".v",
   "mimetype": "text/x-coq",
   "name": "coq",
   "version": "8.9.1"
  }
 },
 "nbformat": 4,
 "nbformat_minor": 2
}
