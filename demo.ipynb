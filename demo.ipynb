{
 "cells": [
  {
   "cell_type": "markdown",
   "metadata": {
    "coq_kernel_metadata": {
     "auto_roll_back": true
    }
   },
   "source": [
    "# A Short Introduction to Coq\n",
    "\n",
    "\n",
    "In this tutorial, we are going to play with [Coq](https://coq.inria.fr/), which is a popular proof assitant based on solid [type theories](https://en.wikipedia.org/wiki/Calculus_of_constructions).\n",
    "\n",
    "This tutorial contains the following content:\n",
    "\n",
    "- Basic functional programming in Coq\n",
    "- Curry-Howard correspondence\n",
    "- First-order Logic\n",
    "- Proof by tatics\n",
    "- The equivalence between LEM and DNE\n",
    "- The soundness of STLC\n",
    "\n",
    "In the above, LEM refers to the [law of excluded middle](https://en.wikipedia.org/wiki/Law_of_excluded_middle), DNE refers to the [law of double negation](https://en.wikipedia.org/wiki/Double_negation).\n",
    "\n",
    "After this tutorial, we hope that\n",
    "\n",
    "- you have a better understanding of Curry-Howard corespondence and its role in Coq\n",
    "- you can do simple proofs in Coq\n",
    "\n"
   ]
  },
  {
   "cell_type": "markdown",
   "metadata": {
    "coq_kernel_metadata": {
     "auto_roll_back": true
    }
   },
   "source": [
    "## Basic Functional Programming in Coq"
   ]
  },
  {
   "cell_type": "markdown",
   "metadata": {
    "coq_kernel_metadata": {
     "auto_roll_back": true
    }
   },
   "source": [
    "The core of Coq is a functional programming language, called Gallina. It offers features like _algebraic data types_, _pattern matching_, _parametric polymorphism_, as commonly supported by functional languages."
   ]
  },
  {
   "cell_type": "markdown",
   "metadata": {
    "coq_kernel_metadata": {
     "auto_roll_back": true
    }
   },
   "source": [
    "We create a playground, so that the names will not clash with definitions from Coq."
   ]
  },
  {
   "cell_type": "code",
   "execution_count": null,
   "metadata": {
    "coq_kernel_metadata": {
     "auto_roll_back": true,
     "cell_id": "1de92db6d2ca493887bc754dbe3927d0",
     "execution_id": "1108c94f825442ec862692136097969d"
    },
    "scrolled": true
   },
   "outputs": [],
   "source": [
    "Module FPPlayground."
   ]
  },
  {
   "cell_type": "markdown",
   "metadata": {
    "coq_kernel_metadata": {
     "auto_roll_back": true
    }
   },
   "source": [
    "We may define a type for booleans as follows:"
   ]
  },
  {
   "cell_type": "code",
   "execution_count": null,
   "metadata": {
    "coq_kernel_metadata": {
     "auto_roll_back": false,
     "cell_id": "93e0f7bd608840f29a05307acfee51d3",
     "execution_id": "db0a963fdef04cf7ad5c3db82079045f"
    },
    "scrolled": false
   },
   "outputs": [],
   "source": [
    "Inductive bool : Type :=\n",
    "  | true\n",
    "  | false."
   ]
  },
  {
   "cell_type": "markdown",
   "metadata": {
    "coq_kernel_metadata": {
     "auto_roll_back": true
    }
   },
   "source": [
    "With the definition above, we can define the common boolean operations:"
   ]
  },
  {
   "cell_type": "code",
   "execution_count": null,
   "metadata": {
    "coq_kernel_metadata": {
     "auto_roll_back": false,
     "cell_id": "fd3710909b66477a81183796bb13d9a2",
     "execution_id": "b032dc84c02949b983f10580c5d7cbf7"
    },
    "scrolled": true
   },
   "outputs": [],
   "source": [
    "Definition negb (b:bool) : bool :=\n",
    "  match b with\n",
    "  | true => false\n",
    "  | false => true\n",
    "  end.\n",
    "Definition andb (b1:bool) (b2:bool) : bool :=\n",
    "  match b1 with\n",
    "  | true => b2\n",
    "  | false => false\n",
    "  end.\n",
    "Definition orb (b1:bool) (b2:bool) : bool :=\n",
    "  match b1 with\n",
    "  | true => true\n",
    "  | false => b2\n",
    "  end."
   ]
  },
  {
   "cell_type": "markdown",
   "metadata": {
    "coq_kernel_metadata": {
     "auto_roll_back": true
    }
   },
   "source": [
    "Natural numbers can be defined as follows:"
   ]
  },
  {
   "cell_type": "code",
   "execution_count": null,
   "metadata": {
    "coq_kernel_metadata": {
     "auto_roll_back": false,
     "cell_id": "a934e957980e4cc58be6526f4f2096cf",
     "execution_id": "9a4b539c997e472397c00cb381bd7aae"
    },
    "scrolled": true
   },
   "outputs": [],
   "source": [
    "Inductive nat : Type :=\n",
    "  | O\n",
    "  | S (n : nat)."
   ]
  },
  {
   "cell_type": "markdown",
   "metadata": {
    "coq_kernel_metadata": {
     "auto_roll_back": true,
     "cell_id": "3b9035293dad4763b5084d6567d4553f",
     "execution_id": "93025c91cb7f40c484657134fecca622"
    }
   },
   "source": [
    "Now we can define the predecessor function:"
   ]
  },
  {
   "cell_type": "code",
   "execution_count": null,
   "metadata": {
    "coq_kernel_metadata": {
     "auto_roll_back": false,
     "cell_id": "6df04ef55d144b6f988cc26d0b03ab8e",
     "execution_id": "c3b192d30c1641d898e50e8313962187"
    }
   },
   "outputs": [],
   "source": [
    "Definition pred (n : nat) : nat :=\n",
    "  match n with\n",
    "    | O => O\n",
    "    | S n' => n'\n",
    "  end."
   ]
  },
  {
   "cell_type": "markdown",
   "metadata": {
    "coq_kernel_metadata": {
     "auto_roll_back": true
    }
   },
   "source": [
    "Let's now define a function that doubles its argument:"
   ]
  },
  {
   "cell_type": "code",
   "execution_count": null,
   "metadata": {
    "coq_kernel_metadata": {
     "auto_roll_back": true,
     "cell_id": "5b8e7c3531ff447e98abbbbccfdff835",
     "execution_id": "186f1e496640486a957c7b5ab67b7fb7"
    }
   },
   "outputs": [],
   "source": [
    "Definition double (n : nat) : nat :=\n",
    "  match n with\n",
    "    | O => O\n",
    "    | S n' => S (S (double n'))\n",
    "  end."
   ]
  },
  {
   "cell_type": "markdown",
   "metadata": {
    "coq_kernel_metadata": {
     "auto_roll_back": true
    }
   },
   "source": [
    "Oops! Coq complains that `double` was not found. We need to use the keyword `Fixpoint`:"
   ]
  },
  {
   "cell_type": "code",
   "execution_count": null,
   "metadata": {
    "coq_kernel_metadata": {
     "auto_roll_back": false,
     "cell_id": "10afad1bb3a2445b8b8aabd740ca249c",
     "execution_id": "57ca315e13744eb58f32703a168992f4"
    },
    "scrolled": true
   },
   "outputs": [],
   "source": [
    "Fixpoint double (n : nat) : nat :=\n",
    "  match n with\n",
    "    | O => O\n",
    "    | S n' => S (S (double n'))\n",
    "  end."
   ]
  },
  {
   "cell_type": "markdown",
   "metadata": {
    "coq_kernel_metadata": {
     "auto_roll_back": true
    }
   },
   "source": [
    "Why the complexity? The reason is that in the above, `double` is a recursive function. You might remember from TAPL that unrestricted general recursion can make any type inhabited. By Curry-Howard correspondance, it means that any proposition can be proved true!\n",
    "\n",
    "Consequently, recursive functions must terminate in order to be accepted by Coq. Coq uses a simple mechanism to check termination of recursive calls, namely _structural recursion_: the recursive call must take an argument which is _structurally_ smaller."
   ]
  },
  {
   "cell_type": "code",
   "execution_count": null,
   "metadata": {
    "coq_kernel_metadata": {
     "auto_roll_back": false,
     "cell_id": "6f776826106e41708795d2aa552bc7fe",
     "execution_id": "d1b95e42535a450eb5623a10c461aea8"
    }
   },
   "outputs": [],
   "source": [
    "Fixpoint plus (n : nat) (m : nat) : nat :=\n",
    "  match n with\n",
    "    | O => m\n",
    "    | S n' => S (plus n' m)\n",
    "  end."
   ]
  },
  {
   "cell_type": "markdown",
   "metadata": {
    "coq_kernel_metadata": {
     "auto_roll_back": true
    }
   },
   "source": [
    "**Exercise 1**: Factorial\n",
    "\n",
    "Please implement the `factorial` function given below:"
   ]
  },
  {
   "cell_type": "code",
   "execution_count": null,
   "metadata": {
    "coq_kernel_metadata": {
     "auto_roll_back": false,
     "cell_id": "c23f46f303304abc8f07211756a7601f",
     "execution_id": "11ef805b36d749838f1ec162fbe8c29f"
    }
   },
   "outputs": [],
   "source": [
    "Fixpoint factorial (n:nat) : nat\n",
    "  (* := ??? *). Admitted."
   ]
  },
  {
   "cell_type": "code",
   "execution_count": null,
   "metadata": {
    "coq_kernel_metadata": {
     "auto_roll_back": false,
     "cell_id": "70353736c48b41dd8c9b59c964f064f7",
     "execution_id": "56691deb5ff94a7890e7ff27b6e88de8"
    }
   },
   "outputs": [],
   "source": [
    "End FPPlayground."
   ]
  },
  {
   "cell_type": "markdown",
   "metadata": {
    "coq_kernel_metadata": {
     "auto_roll_back": true
    }
   },
   "source": [
    "## Curry-Howard correspondence"
   ]
  },
  {
   "cell_type": "markdown",
   "metadata": {
    "coq_kernel_metadata": {
     "auto_roll_back": true
    }
   },
   "source": [
    "As we learned from class lectures, [Curry-Howard correspondence](https://en.wikipedia.org/wiki/Curry%E2%80%93Howard_correspondence) plays a critical role in proof assitants that are based on type theories. The key insight is that\n",
    "\n",
    "- proofs are programs, and\n",
    "- propositions are types\n",
    "\n",
    "To show that a proposition is provable, it suffices to show that the corresponding types are inhabited by a program. In this section we will see how this correspondence is embodied in Coq."
   ]
  },
  {
   "cell_type": "markdown",
   "metadata": {
    "coq_kernel_metadata": {
     "auto_roll_back": true
    }
   },
   "source": [
    "**Implication**. The most important correspondence is between the function type `A -> B` and implication `A -> B`. Consequently, the proof of `A -> B` is a function of the type `A -> B`. By the [BHK interpretation](https://en.wikipedia.org/wiki/Brouwer%E2%80%93Heyting%E2%80%93Kolmogorov_interpretation) of intutionist logic, a function that proves `A -> B` basically transforms the proof of `A` to the proof of `B`.\n"
   ]
  },
  {
   "cell_type": "markdown",
   "metadata": {
    "coq_kernel_metadata": {
     "auto_roll_back": true,
     "cell_id": "41b957b680ae4c38a2433b35fd3d19e6",
     "execution_id": "1fbfd4d5c4e642a1825792ab6fb96934"
    }
   },
   "source": [
    "**Conjunction**. The proposition `A /\\ B` is represented by a product type:\n",
    "\n",
    "\n",
    "```Coq\n",
    "Inductive and (A B:Prop) : Prop :=\n",
    "  conj : A -> B -> A /\\ B\n",
    "where \"A /\\ B\" := (and A B) : type_scope.\n",
    "```\n",
    "\n",
    "Note that the constructor `conj` has the type `A -> B -> A /\\ B`, which can be read as _given a proof of A and a proof of B, then we can construct a proof of A /\\ B_.\n"
   ]
  },
  {
   "cell_type": "markdown",
   "metadata": {
    "coq_kernel_metadata": {
     "auto_roll_back": true
    }
   },
   "source": [
    "**Disjunction**. A disjunction `A \\/ B` means either we have a proof of `A` or a proof of `B`, thus it is naturally represented by a sum type:\n",
    "\n",
    "```Coq\n",
    "Inductive or (A B:Prop) : Prop :=\n",
    "  | or_introl : A -> A \\/ B\n",
    "  | or_intror : B -> A \\/ B\n",
    "where \"A \\/ B\" := (or A B) : type_scope.\n",
    "```"
   ]
  },
  {
   "cell_type": "markdown",
   "metadata": {
    "coq_kernel_metadata": {
     "auto_roll_back": true
    }
   },
   "source": [
    "**If and only if**. The proposition `A <-> B` is embodied by the type `(A -> B) /\\ (B -> A)`, consequently the proof will be a tuple of functions.\n",
    "\n",
    "```Coq\n",
    "Definition iff (A B:Prop) := (A -> B) /\\ (B -> A).\n",
    "Notation \"A <-> B\" := (iff A B) : type_scope.\n",
    "```"
   ]
  },
  {
   "cell_type": "markdown",
   "metadata": {
    "coq_kernel_metadata": {
     "auto_roll_back": true
    }
   },
   "source": [
    "**False**. Which type corresponds to the proposition `False`? As we can never prove `False`, it should correspond to a type that is not inhabited. This can be done in Coq by defining an inductive type without any constructors, thus it is impossible for a term to inhabit the type.\n",
    "\n",
    "```Coq\n",
    "Inductive False : Prop :=.\n",
    "```"
   ]
  },
  {
   "cell_type": "markdown",
   "metadata": {
    "coq_kernel_metadata": {
     "auto_roll_back": true
    }
   },
   "source": [
    "**Negation**. How to represent the proposition `~A` in types? In intutionistic logic, `~A` is interpreted as `A -> False`, i.e., a proof of `A` will lead to absurdity.\n",
    "\n",
    "```Coq\n",
    "Definition not (A:Prop) := A -> False.\n",
    "```\n",
    "\n",
    "Consequently, `~~A` is the same as `(A -> False) -> False`."
   ]
  },
  {
   "cell_type": "markdown",
   "metadata": {
    "coq_kernel_metadata": {
     "auto_roll_back": true
    }
   },
   "source": [
    "As an exercise, let's prove the following theorem, which says that for any proposition `P`, we may prove `~~P` from `P`:"
   ]
  },
  {
   "cell_type": "code",
   "execution_count": null,
   "metadata": {
    "coq_kernel_metadata": {
     "auto_roll_back": true,
     "cell_id": "e40a5697482543c5bdfea1d8c54c7828",
     "execution_id": "6a5cd27eb7a048b084111329a2cee879"
    }
   },
   "outputs": [],
   "source": [
    "Definition neg_fun_prop: Prop := forall P: Prop, P -> ~~P."
   ]
  },
  {
   "cell_type": "markdown",
   "metadata": {
    "coq_kernel_metadata": {
     "auto_roll_back": true
    }
   },
   "source": [
    "The proof is just a function that has the type `neg_fun_prop`:"
   ]
  },
  {
   "cell_type": "code",
   "execution_count": null,
   "metadata": {
    "coq_kernel_metadata": {
     "auto_roll_back": true,
     "cell_id": "2b780305b43b47d48be5f291cfbad256",
     "execution_id": "8e332901e2be484480eeac78483aee94"
    }
   },
   "outputs": [],
   "source": [
    "Definition neg_fun_proof := fun (P:Prop) (p: P) (np: ~P) => np p."
   ]
  },
  {
   "cell_type": "markdown",
   "metadata": {
    "coq_kernel_metadata": {
     "auto_roll_back": true
    }
   },
   "source": [
    "Let's check the type to see it's indeed the proof:"
   ]
  },
  {
   "cell_type": "code",
   "execution_count": null,
   "metadata": {
    "coq_kernel_metadata": {
     "auto_roll_back": true,
     "cell_id": "2d37d32ff9c54eea91daab02d3fed440",
     "execution_id": "3c9c2bc6fa614594a0c0804973033dd3"
    },
    "scrolled": true
   },
   "outputs": [],
   "source": [
    "Check neg_fun_proof."
   ]
  },
  {
   "cell_type": "markdown",
   "metadata": {
    "coq_kernel_metadata": {
     "auto_roll_back": true
    }
   },
   "source": [
    "The type is equivalent to `neg_fun_prop`:"
   ]
  },
  {
   "cell_type": "code",
   "execution_count": null,
   "metadata": {
    "coq_kernel_metadata": {
     "auto_roll_back": true,
     "cell_id": "d84a862260e14a34aa28733dea713cd0",
     "execution_id": "6235c5e77ee0447e862ad84021fddac0"
    }
   },
   "outputs": [],
   "source": [
    "Check neg_fun_proof: neg_fun_prop."
   ]
  },
  {
   "cell_type": "markdown",
   "metadata": {
    "coq_kernel_metadata": {
     "auto_roll_back": true
    }
   },
   "source": [
    "## First-order logic\n",
    "\n",
    "So far, what we have seen are formulas of propositional logic. You might be wondering, what about first-order logic formulas, e.g. $\\forall x \\in A.P(x)$ and $\\exists x \\in A.P(x)$? That leads us to [dependent types](https://en.wikipedia.org/wiki/Dependent_type). Coq is based on a dependent type theory called [calculus of inductive construction](https://en.wikipedia.org/wiki/Calculus_of_constructions).\n",
    "\n",
    "The most important type in dependent type theories is the $\\Pi$-type, which is of the form $\\Pi_{x:A}B(x)$. $\\Pi$ types denote _dependent functions_, whose return _type_ depends on the parameter of the function. In Coq, the $\\Pi$ type is written as `forall x:A, B`. We illustrate by proving the following theorem:\n",
    "\n",
    "$$\\forall x \\in nat. even(double(x))$$\n"
   ]
  },
  {
   "cell_type": "markdown",
   "metadata": {
    "coq_kernel_metadata": {
     "auto_roll_back": true
    }
   },
   "source": [
    "First, we reproduce our definitions of `nat` and `double` below."
   ]
  },
  {
   "cell_type": "code",
   "execution_count": null,
   "metadata": {
    "coq_kernel_metadata": {
     "auto_roll_back": true,
     "cell_id": "d411e10dd6b842108be4207382290101",
     "evaluated": true,
     "execution_id": "33e9b88287db40ba8398d52a3e1939c1",
     "rolled_back": false
    }
   },
   "outputs": [],
   "source": [
    "Module FOPlayground.\n",
    "\n",
    "Inductive nat : Type :=\n",
    "  | O\n",
    "  | S (n : nat).\n",
    "\n",
    "Fixpoint double (n : nat) : nat :=\n",
    "  match n with\n",
    "    | O => O\n",
    "    | S n' => S (S (double n'))\n",
    "  end."
   ]
  },
  {
   "cell_type": "markdown",
   "metadata": {
    "coq_kernel_metadata": {
     "auto_roll_back": true
    }
   },
   "source": [
    "First, we need to define the predicate `even`: "
   ]
  },
  {
   "cell_type": "code",
   "execution_count": null,
   "metadata": {
    "coq_kernel_metadata": {
     "auto_roll_back": true,
     "cell_id": "d5837c028049470b8acf7c7f69714dfd",
     "evaluated": true,
     "execution_id": "758934e261db4a69bd2fe430a1034c43",
     "rolled_back": false
    },
    "scrolled": true
   },
   "outputs": [],
   "source": [
    "Inductive even : nat -> Prop :=\n",
    "  | even0 : even O\n",
    "  | evenS : forall x:nat, even x -> even (S (S x))."
   ]
  },
  {
   "cell_type": "markdown",
   "metadata": {
    "coq_kernel_metadata": {
     "auto_roll_back": true
    }
   },
   "source": [
    "The definition says that `O` is even, and if `x` is even, then `S S x` is even. Now we can define the proposition formally:"
   ]
  },
  {
   "cell_type": "code",
   "execution_count": null,
   "metadata": {
    "coq_kernel_metadata": {
     "auto_roll_back": true,
     "cell_id": "2e854d1ea4744bbe8f2662b0ffb8b4ae",
     "evaluated": true,
     "execution_id": "6b40f0e25d8b494c8575a0c52160f471",
     "rolled_back": false
    }
   },
   "outputs": [],
   "source": [
    "Definition even_prop: Prop := forall x:nat, even (double x)."
   ]
  },
  {
   "cell_type": "markdown",
   "metadata": {
    "coq_kernel_metadata": {
     "auto_roll_back": true
    }
   },
   "source": [
    "For the proof, we will need a clever helper function `even_rec`, which is defined below:"
   ]
  },
  {
   "cell_type": "code",
   "execution_count": null,
   "metadata": {
    "coq_kernel_metadata": {
     "auto_roll_back": true,
     "cell_id": "171817b9b40542c28500a1bf7044c357",
     "evaluated": true,
     "execution_id": "4a9c7dd891a548ba8d0ed4746c3f1631",
     "rolled_back": false
    }
   },
   "outputs": [],
   "source": [
    "Fixpoint even_rec(m: nat)(p0: (even (double O)))(pS: forall n:nat, (even (double n)) -> (even (double (S n)))): even (double m) :=\n",
    "  match m with\n",
    "    | O => p0\n",
    "    | S n' => pS n' (even_rec n' p0 pS)\n",
    "  end."
   ]
  },
  {
   "cell_type": "markdown",
   "metadata": {
    "coq_kernel_metadata": {
     "auto_roll_back": true,
     "cell_id": "b54925626d2f4a2a9bc63c7176dca80e",
     "execution_id": "6db1579db6b44218a35631b8956f1bca"
    }
   },
   "source": [
    "Note that in the above, the recursion is well-founded, because it is structurally decreasing on `m`. With the helper function, we may write the proof, which is a dependent function:"
   ]
  },
  {
   "cell_type": "code",
   "execution_count": null,
   "metadata": {
    "coq_kernel_metadata": {
     "auto_roll_back": true,
     "cell_id": "4f05eaa503ca4b55b8990539e3c4597d",
     "evaluated": true,
     "execution_id": "72a2da263e7b47469d20d966d03946e2",
     "rolled_back": false
    }
   },
   "outputs": [],
   "source": [
    "Definition even_proof :=\n",
    "  fun n => even_rec n even0 (fun m evenN => (evenS (double m) evenN))."
   ]
  },
  {
   "cell_type": "markdown",
   "metadata": {
    "coq_kernel_metadata": {
     "auto_roll_back": true
    }
   },
   "source": [
    "We can check the type to see we actually proved the theorem:"
   ]
  },
  {
   "cell_type": "code",
   "execution_count": null,
   "metadata": {
    "coq_kernel_metadata": {
     "auto_roll_back": true,
     "cell_id": "34be211b554046768e7a6b38257d8ab6",
     "evaluated": true,
     "execution_id": "1558cdf2677f4db096ea53024675f504",
     "rolled_back": false
    }
   },
   "outputs": [],
   "source": [
    "Check even_proof."
   ]
  },
  {
   "cell_type": "code",
   "execution_count": null,
   "metadata": {
    "coq_kernel_metadata": {
     "auto_roll_back": true,
     "cell_id": "9f3efa40bbc847a2877fcd7cdd7e0cb6",
     "evaluated": true,
     "execution_id": "7681a6ca35ce4d2e9a601321807da24e",
     "rolled_back": false
    }
   },
   "outputs": [],
   "source": [
    "End FOPlayground."
   ]
  },
  {
   "cell_type": "markdown",
   "metadata": {
    "coq_kernel_metadata": {
     "auto_roll_back": true
    }
   },
   "source": [
    "From the above, it is clear that universal quantification can be encoded as $\\Pi$ types. But what about existential quantification? In Coq, existential quantification is encoded as follows:\n",
    "\n",
    "```Coq\n",
    "Inductive ex (A:Type) (P:A -> Prop) : Prop :=\n",
    "  ex_intro : forall x:A, P x -> ex (A:=A) P.\n",
    "```"
   ]
  },
  {
   "cell_type": "markdown",
   "metadata": {
    "coq_kernel_metadata": {
     "auto_roll_back": true
    }
   },
   "source": [
    "Equality (strictly speaking _propositional equality_) is also encoded by an inductive type:\n",
    "\n",
    "```Coq\n",
    "Inductive eq (A:Type) (x:A) : A -> Prop :=\n",
    "    eq_refl : x = x :>A\n",
    "```"
   ]
  },
  {
   "cell_type": "markdown",
   "metadata": {
    "coq_kernel_metadata": {
     "auto_roll_back": true
    }
   },
   "source": [
    "You may find more information about the encoding of logic in Coq here: https://coq.inria.fr/stdlib/Coq.Init.Logic.html."
   ]
  },
  {
   "cell_type": "markdown",
   "metadata": {
    "coq_kernel_metadata": {
     "auto_roll_back": true,
     "cell_id": "65090e4a09c149dab8ad05361602d7f2",
     "execution_id": "37ec84e6650f49d6b2ba6072ab9385b7"
    }
   },
   "source": [
    "**Exercise 2**: Define an inductive predicate `odd`, and prove that `forall n:nat, odd (S (double n))`."
   ]
  },
  {
   "cell_type": "markdown",
   "metadata": {
    "coq_kernel_metadata": {
     "auto_roll_back": true
    }
   },
   "source": [
    "## Introduction to proofs by tatics"
   ]
  },
  {
   "cell_type": "markdown",
   "metadata": {
    "coq_kernel_metadata": {
     "auto_roll_back": true
    }
   },
   "source": [
    "As you have seen in previous examples, doing proofs by writing functions is very different from how proofs are usually done. Fortunately, Coq comes with a language called [_Ltac_,](https://coq.inria.fr/refman/proof-engine/ltac.html), which enables an imperative proving style that is more natural. Ltac also makes it possible to define heuristics to automate some proofs. Ltac only helps to synthesize the proofs, thus even there are bugs in Ltac, it is not an issue --- all programs or proofs have to be checked by a small trusted core.\n",
    "\n",
    "In the following, we assume the definitions in standard library: https://coq.inria.fr/stdlib/Coq.Init.Datatypes.html.\n",
    "\n",
    "**Tactics 101**. Let's see how to use the common tatics to do proofs in Coq. We first define the theorem to be proved:\n"
   ]
  },
  {
   "cell_type": "code",
   "execution_count": null,
   "metadata": {
    "coq_kernel_metadata": {
     "auto_roll_back": true,
     "cell_id": "8fbd5b2fdbe24219880877b0433b7458",
     "evaluated": true,
     "execution_id": "ff4d53cda0224fc7b335d612846a373e",
     "rolled_back": false
    }
   },
   "outputs": [],
   "source": [
    "Theorem neg_fun: forall P: Prop, P -> ~~P."
   ]
  },
  {
   "cell_type": "markdown",
   "metadata": {
    "coq_kernel_metadata": {
     "auto_roll_back": true
    }
   },
   "source": [
    "From the output, we see there is one proof goal. We start proof by writing `Proof`"
   ]
  },
  {
   "cell_type": "code",
   "execution_count": null,
   "metadata": {
    "coq_kernel_metadata": {
     "auto_roll_back": true,
     "cell_id": "ae41873c3fce4e43b3df6d0907c65701",
     "evaluated": true,
     "execution_id": "9c77cf92124540fe8c8dde552e770dad",
     "rolled_back": false
    }
   },
   "outputs": [],
   "source": [
    "Proof."
   ]
  },
  {
   "cell_type": "markdown",
   "metadata": {
    "coq_kernel_metadata": {
     "auto_roll_back": true
    }
   },
   "source": [
    "If the goal is universal quantification or implication, we can use `intros` to introduce the conditions as premises:"
   ]
  },
  {
   "cell_type": "code",
   "execution_count": null,
   "metadata": {
    "coq_kernel_metadata": {
     "auto_roll_back": true,
     "cell_id": "4e97c8710a5b4cdd8bf5b4af671333a0",
     "evaluated": true,
     "execution_id": "c6200cfa55ee4656afd98dacd65cb1f3",
     "rolled_back": false
    }
   },
   "outputs": [],
   "source": [
    "intros."
   ]
  },
  {
   "cell_type": "markdown",
   "metadata": {
    "coq_kernel_metadata": {
     "auto_roll_back": true
    }
   },
   "source": [
    "As introduced before, `~P` is defined as `P -> False`. We can use `unfold` to expand the definition:"
   ]
  },
  {
   "cell_type": "code",
   "execution_count": null,
   "metadata": {
    "coq_kernel_metadata": {
     "auto_roll_back": true,
     "cell_id": "d1e965f1066641a187956758461a7d9b",
     "evaluated": true,
     "execution_id": "8cc060cc451747308e5b29141fa66333",
     "rolled_back": false
    }
   },
   "outputs": [],
   "source": [
    "unfold not."
   ]
  },
  {
   "cell_type": "markdown",
   "metadata": {
    "coq_kernel_metadata": {
     "auto_roll_back": true
    }
   },
   "source": [
    "Now we can use `intros` again:"
   ]
  },
  {
   "cell_type": "code",
   "execution_count": null,
   "metadata": {
    "coq_kernel_metadata": {
     "auto_roll_back": true,
     "cell_id": "a0b4b77668c446dfa4528a8d6de99f1a",
     "evaluated": true,
     "execution_id": "581b60c413a74e48a5d354ff135fb098",
     "rolled_back": false
    }
   },
   "outputs": [],
   "source": [
    "intros."
   ]
  },
  {
   "cell_type": "markdown",
   "metadata": {
    "coq_kernel_metadata": {
     "auto_roll_back": true
    }
   },
   "source": [
    "Now we see that the proof goal is the return type of `H0`, the tatic `apply` is useful in this case:"
   ]
  },
  {
   "cell_type": "code",
   "execution_count": null,
   "metadata": {
    "coq_kernel_metadata": {
     "auto_roll_back": true,
     "cell_id": "63f59ae08dee44d184cf55ac22a3f8a3",
     "evaluated": true,
     "execution_id": "1bf77041faee40e08a0ba0b680be553d",
     "rolled_back": false
    }
   },
   "outputs": [],
   "source": [
    "apply H0."
   ]
  },
  {
   "cell_type": "markdown",
   "metadata": {
    "coq_kernel_metadata": {
     "auto_roll_back": true
    }
   },
   "source": [
    "Now we see the proof goal `P` is already a given premise, we can use `exact` to complete the proof:"
   ]
  },
  {
   "cell_type": "code",
   "execution_count": null,
   "metadata": {
    "coq_kernel_metadata": {
     "auto_roll_back": true,
     "cell_id": "838b052f190346a9884a8ae260a2fe64",
     "evaluated": true,
     "execution_id": "f16803843f3f46a5a423c891d9819a7a",
     "rolled_back": false
    }
   },
   "outputs": [],
   "source": [
    "exact H."
   ]
  },
  {
   "cell_type": "markdown",
   "metadata": {
    "coq_kernel_metadata": {
     "auto_roll_back": true
    }
   },
   "source": [
    "Now we can end the proof by `QED`:"
   ]
  },
  {
   "cell_type": "code",
   "execution_count": null,
   "metadata": {
    "coq_kernel_metadata": {
     "auto_roll_back": true,
     "cell_id": "8e36e1f0ee2045428e6a1f59fe8c9fc1",
     "evaluated": true,
     "execution_id": "a58ac63372564506b98adadee9deea4c",
     "rolled_back": false
    }
   },
   "outputs": [],
   "source": [
    "Qed."
   ]
  },
  {
   "cell_type": "markdown",
   "metadata": {
    "coq_kernel_metadata": {
     "auto_roll_back": true,
     "cell_id": "449b61d3f4a3400b8a727bb05cd2493b",
     "evaluated": false,
     "execution_id": "3b382b67bcd241d68b9ff6c0973e13e4",
     "rolled_back": true
    }
   },
   "source": [
    "We put all the proof steps together for readability:\n",
    "\n",
    "```Coq\n",
    "Theorem neg_fun: forall P: Prop, P -> ~~P.\n",
    "Proof.\n",
    "  intros. unfold not. intros. apply H0. exact H.\n",
    "Qed.\n",
    "```"
   ]
  },
  {
   "cell_type": "markdown",
   "metadata": {
    "coq_kernel_metadata": {
     "auto_roll_back": true
    }
   },
   "source": [
    "**Proof by simplification**. When the proof goals involves definition of functions, the tatic `simpl.` is handy. For example, we may prove"
   ]
  },
  {
   "cell_type": "code",
   "execution_count": null,
   "metadata": {
    "coq_kernel_metadata": {
     "auto_roll_back": true,
     "cell_id": "57066ca82e984c999342fd3194d15049",
     "evaluated": true,
     "execution_id": "3318beefe65742a39c094d0f7ffdd26f",
     "rolled_back": true
    }
   },
   "outputs": [],
   "source": [
    "Theorem plus_11: 7 + 4 = 6 + 5.\n",
    "Proof."
   ]
  },
  {
   "cell_type": "code",
   "execution_count": null,
   "metadata": {
    "coq_kernel_metadata": {
     "auto_roll_back": true,
     "cell_id": "20c42ad1111545b1a6dc9aac4f21da00",
     "evaluated": true,
     "execution_id": "e59fd5cc277248e88c1e6d0656035020",
     "rolled_back": true
    }
   },
   "outputs": [],
   "source": [
    "simpl."
   ]
  },
  {
   "cell_type": "markdown",
   "metadata": {
    "coq_kernel_metadata": {
     "auto_roll_back": true
    }
   },
   "source": [
    "The tatic `reflexivity` can be use to prove `a = a` and completes the proof: "
   ]
  },
  {
   "cell_type": "code",
   "execution_count": null,
   "metadata": {
    "coq_kernel_metadata": {
     "auto_roll_back": true,
     "cell_id": "b27e69180196473c98e81908efa576ba",
     "evaluated": true,
     "execution_id": "f239cdd15e084d7e899641ac95e32c78",
     "rolled_back": true
    }
   },
   "outputs": [],
   "source": [
    "reflexivity.\n",
    "Qed."
   ]
  },
  {
   "cell_type": "markdown",
   "metadata": {
    "coq_kernel_metadata": {
     "auto_roll_back": true
    }
   },
   "source": [
    "**Proof by rewriting**. To take advantage of known equalities, we can use the tactic `rewrite`. For example, we may prove"
   ]
  },
  {
   "cell_type": "code",
   "execution_count": null,
   "metadata": {
    "coq_kernel_metadata": {
     "auto_roll_back": true,
     "cell_id": "b3a3069f75ae47e68288c70cc18ba7cf",
     "evaluated": true,
     "execution_id": "ff1eb7479a2f46678ab6562831305ce0",
     "rolled_back": false
    }
   },
   "outputs": [],
   "source": [
    "Theorem eq_rewrite: forall m n:nat, m = n -> m + 2 = n + 2.\n",
    "Proof.\n",
    "  intros m n H. rewrite -> H. reflexivity.\n",
    "Qed."
   ]
  },
  {
   "cell_type": "markdown",
   "metadata": {
    "coq_kernel_metadata": {
     "auto_roll_back": true
    }
   },
   "source": [
    "**Proof by case analysis**."
   ]
  },
  {
   "cell_type": "code",
   "execution_count": null,
   "metadata": {
    "coq_kernel_metadata": {
     "auto_roll_back": true,
     "cell_id": "5ad441199b204cc99133047b008e1eca",
     "evaluated": true,
     "execution_id": "4255310ae966408580fd4e6d4b2f8acf",
     "rolled_back": false
    }
   },
   "outputs": [],
   "source": [
    "Theorem neg_eql : forall b : bool, negb (negb b) = b.\n",
    "Proof.\n",
    "  intros b. destruct b.\n",
    "  - simpl. simpl. reflexivity.\n",
    "  - simpl. simpl. reflexivity.\n",
    "Qed.\n"
   ]
  },
  {
   "cell_type": "markdown",
   "metadata": {
    "coq_kernel_metadata": {
     "auto_roll_back": true
    }
   },
   "source": [
    "**Proof by induction**"
   ]
  },
  {
   "cell_type": "code",
   "execution_count": null,
   "metadata": {
    "coq_kernel_metadata": {
     "auto_roll_back": true,
     "cell_id": "343b92869c804ab5b14b3f0f64f3afc5",
     "evaluated": true,
     "execution_id": "5db8233638244fd289b50f891709b05b",
     "rolled_back": false
    }
   },
   "outputs": [],
   "source": [
    "Fixpoint double (n : nat) : nat :=\n",
    "  match n with\n",
    "    | 0 => 0\n",
    "    | S n' => S (S (double n'))\n",
    "  end.\n",
    "\n",
    "Inductive even : nat -> Prop :=\n",
    "  | even0 : even 0\n",
    "  | evenS : forall n:nat, even n -> even (S (S n)).\n",
    "\n",
    "Theorem even_prop: forall n:nat, even (double n).\n",
    "Proof.\n",
    "  intros n. induction n as [|n' IH].\n",
    "  - simpl. simpl. constructor.\n",
    "  - simpl. simpl. constructor. exact IH.\n",
    "Qed."
   ]
  },
  {
   "cell_type": "markdown",
   "metadata": {
    "coq_kernel_metadata": {
     "auto_roll_back": true
    }
   },
   "source": [
    "**Exercise 3**: Prove commutativity of addition:"
   ]
  },
  {
   "cell_type": "code",
   "execution_count": null,
   "metadata": {
    "coq_kernel_metadata": {
     "auto_roll_back": true,
     "cell_id": "fac162591e0b4beb8ffefded51e9c533",
     "evaluated": true,
     "execution_id": "2434a7e2c82940eb854507f6e794d199",
     "rolled_back": false
    }
   },
   "outputs": [],
   "source": [
    "Theorem add_commutativity: forall m n:nat, m + n = n + m.\n",
    "Proof. Admitted."
   ]
  },
  {
   "cell_type": "markdown",
   "metadata": {
    "coq_kernel_metadata": {
     "auto_roll_back": true
    }
   },
   "source": [
    "## The equivalence between LEM and DNE"
   ]
  },
  {
   "cell_type": "markdown",
   "metadata": {
    "coq_kernel_metadata": {
     "auto_roll_back": true
    }
   },
   "source": [
    "## The soundness of STLC"
   ]
  },
  {
   "cell_type": "markdown",
   "metadata": {
    "coq_kernel_metadata": {
     "auto_roll_back": true
    }
   },
   "source": [
    "## Going further"
   ]
  },
  {
   "cell_type": "code",
   "execution_count": null,
   "metadata": {
    "coq_kernel_metadata": {
     "auto_roll_back": true,
     "cell_id": "26952154492f4386bd1fb514123efe0e",
     "execution_id": "0337dd6b408e4eaa8f74445f51ab0298"
    }
   },
   "outputs": [],
   "source": [
    "Theorem implication :\n",
    "  forall A B : Prop,\n",
    "  A ->\n",
    "  (A -> B) ->\n",
    "  B\n",
    "."
   ]
  },
  {
   "cell_type": "code",
   "execution_count": null,
   "metadata": {
    "coq_kernel_metadata": {
     "auto_roll_back": true,
     "cell_id": "a50c2bebb4184ede88dbad2c396f4f5c",
     "execution_id": "5926e563d0b24d3ea30e1f490d0d8460"
    }
   },
   "outputs": [],
   "source": [
    "Proof.\n",
    "  intros A B.\n",
    "  intros proof_of_A.\n",
    "  intros A_implies_B.\n",
    "  pose (proof_of_B := A_implies_B proof_of_A).\n",
    "  exact proof_of_B.\n",
    "Qed."
   ]
  }
 ],
 "metadata": {
  "kernelspec": {
   "display_name": "Coq",
   "language": "coq",
   "name": "coq"
  },
  "language_info": {
   "file_extension": ".v",
   "mimetype": "text/x-coq",
   "name": "coq",
   "version": "8.9.1"
  }
 },
 "nbformat": 4,
 "nbformat_minor": 2
}
