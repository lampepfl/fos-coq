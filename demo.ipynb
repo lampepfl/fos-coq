{
 "cells": [
  {
   "cell_type": "markdown",
   "metadata": {
    "coq_kernel_metadata": {
     "auto_roll_back": true
    }
   },
   "source": [
    "# A Short Introduction to Coq\n",
    "\n",
    "\n",
    "In this tutorial, we are going to play with [Coq](https://coq.inria.fr/), which is a popular proof assitant based on solid [type theories](https://en.wikipedia.org/wiki/Calculus_of_constructions).\n",
    "\n",
    "This tutorial contains the following content:\n",
    "\n",
    "- Basic functional programming in Coq\n",
    "- Curry-Howard correspondence\n",
    "- First-order Logic\n",
    "- Proof by tatics\n",
    "- The equivalence between LEM and DNE\n",
    "- The soundness of STLC\n",
    "\n",
    "In the above, LEM refers to the [law of excluded middle](https://en.wikipedia.org/wiki/Law_of_excluded_middle), DNE refers to the [law of double negation](https://en.wikipedia.org/wiki/Double_negation).\n",
    "\n",
    "After this tutorial, we hope that\n",
    "\n",
    "- you have a better understanding of Curry-Howard corespondence and its role in Coq\n",
    "- you can do simple proofs in Coq\n",
    "\n"
   ]
  },
  {
   "cell_type": "markdown",
   "metadata": {
    "coq_kernel_metadata": {
     "auto_roll_back": true
    }
   },
   "source": [
    "## Basic Functional Programming in Coq"
   ]
  },
  {
   "cell_type": "markdown",
   "metadata": {
    "coq_kernel_metadata": {
     "auto_roll_back": true
    }
   },
   "source": [
    "The core of Coq is a functional programming language, called Gallina. It offers features like _algebraic data types_, _pattern matching_, _parametric polymorphism_, as commonly supported by functional languages."
   ]
  },
  {
   "cell_type": "markdown",
   "metadata": {
    "coq_kernel_metadata": {
     "auto_roll_back": true
    }
   },
   "source": [
    "We create a playground, so that the names will not clash with definitions from Coq."
   ]
  },
  {
   "cell_type": "code",
   "execution_count": null,
   "metadata": {
    "coq_kernel_metadata": {
     "auto_roll_back": true,
     "cell_id": "a58f76c12aa34e0c8bbaa0b1d95ae327",
     "evaluated": true,
     "execution_id": "1108c94f825442ec862692136097969d",
     "rolled_back": false
    },
    "scrolled": true
   },
   "outputs": [],
   "source": [
    "Module FPPlayground."
   ]
  },
  {
   "cell_type": "markdown",
   "metadata": {
    "coq_kernel_metadata": {
     "auto_roll_back": true
    }
   },
   "source": [
    "We may define a type for booleans as follows:"
   ]
  },
  {
   "cell_type": "code",
   "execution_count": null,
   "metadata": {
    "coq_kernel_metadata": {
     "auto_roll_back": false,
     "cell_id": "8879b43680e14e0b8f57dfe9af76a1a8",
     "evaluated": true,
     "execution_id": "db0a963fdef04cf7ad5c3db82079045f",
     "rolled_back": false
    },
    "scrolled": false
   },
   "outputs": [],
   "source": [
    "Inductive bool : Type :=\n",
    "  | true\n",
    "  | false."
   ]
  },
  {
   "cell_type": "markdown",
   "metadata": {
    "coq_kernel_metadata": {
     "auto_roll_back": true
    }
   },
   "source": [
    "With the definition above, we can define the common boolean operations:"
   ]
  },
  {
   "cell_type": "code",
   "execution_count": null,
   "metadata": {
    "coq_kernel_metadata": {
     "auto_roll_back": false,
     "cell_id": "3e87e8a744414556ba096e5993baeb03",
     "evaluated": true,
     "execution_id": "b032dc84c02949b983f10580c5d7cbf7",
     "rolled_back": false
    },
    "scrolled": true
   },
   "outputs": [],
   "source": [
    "Definition negb (b:bool) : bool :=\n",
    "  match b with\n",
    "  | true => false\n",
    "  | false => true\n",
    "  end.\n",
    "Definition andb (b1:bool) (b2:bool) : bool :=\n",
    "  match b1 with\n",
    "  | true => b2\n",
    "  | false => false\n",
    "  end.\n",
    "Definition orb (b1:bool) (b2:bool) : bool :=\n",
    "  match b1 with\n",
    "  | true => true\n",
    "  | false => b2\n",
    "  end."
   ]
  },
  {
   "cell_type": "markdown",
   "metadata": {
    "coq_kernel_metadata": {
     "auto_roll_back": true
    }
   },
   "source": [
    "Natural numbers can be defined as follows:"
   ]
  },
  {
   "cell_type": "code",
   "execution_count": null,
   "metadata": {
    "coq_kernel_metadata": {
     "auto_roll_back": false,
     "cell_id": "3e015bfca41748808d1531bbe0491e5a",
     "evaluated": true,
     "execution_id": "9a4b539c997e472397c00cb381bd7aae",
     "rolled_back": false
    },
    "scrolled": true
   },
   "outputs": [],
   "source": [
    "Inductive nat : Type :=\n",
    "  | O\n",
    "  | S (n : nat)."
   ]
  },
  {
   "cell_type": "markdown",
   "metadata": {
    "coq_kernel_metadata": {
     "auto_roll_back": true,
     "cell_id": "f907c3b980b441ffa928a30f0a18a547",
     "execution_id": "93025c91cb7f40c484657134fecca622"
    }
   },
   "source": [
    "Now we can define the predecessor function:"
   ]
  },
  {
   "cell_type": "code",
   "execution_count": null,
   "metadata": {
    "coq_kernel_metadata": {
     "auto_roll_back": false,
     "cell_id": "1af947c3c0d842a781c12d0428310890",
     "evaluated": true,
     "execution_id": "c3b192d30c1641d898e50e8313962187",
     "rolled_back": false
    }
   },
   "outputs": [],
   "source": [
    "Definition pred (n : nat) : nat :=\n",
    "  match n with\n",
    "    | O => O\n",
    "    | S n' => n'\n",
    "  end."
   ]
  },
  {
   "cell_type": "markdown",
   "metadata": {
    "coq_kernel_metadata": {
     "auto_roll_back": true
    }
   },
   "source": [
    "Let's now define a function that doubles its argument:"
   ]
  },
  {
   "cell_type": "code",
   "execution_count": null,
   "metadata": {
    "coq_kernel_metadata": {
     "auto_roll_back": true,
     "cell_id": "ab8f514b92014da7bd4306fab60477c0",
     "evaluated": false,
     "execution_id": "186f1e496640486a957c7b5ab67b7fb7",
     "rolled_back": false
    }
   },
   "outputs": [],
   "source": [
    "Definition double (n : nat) : nat :=\n",
    "  match n with\n",
    "    | O => O\n",
    "    | S n' => S (S (double n'))\n",
    "  end."
   ]
  },
  {
   "cell_type": "markdown",
   "metadata": {
    "coq_kernel_metadata": {
     "auto_roll_back": true
    }
   },
   "source": [
    "Oops! Coq complains that `double` was not found. We need to use the keyword `Fixpoint`:"
   ]
  },
  {
   "cell_type": "code",
   "execution_count": null,
   "metadata": {
    "coq_kernel_metadata": {
     "auto_roll_back": false,
     "cell_id": "c647fa6bbf174126879fe86f28379ee2",
     "evaluated": true,
     "execution_id": "57ca315e13744eb58f32703a168992f4",
     "rolled_back": false
    },
    "scrolled": true
   },
   "outputs": [],
   "source": [
    "Fixpoint double (n : nat) : nat :=\n",
    "  match n with\n",
    "    | O => O\n",
    "    | S n' => S (S (double n'))\n",
    "  end."
   ]
  },
  {
   "cell_type": "markdown",
   "metadata": {
    "coq_kernel_metadata": {
     "auto_roll_back": true
    }
   },
   "source": [
    "Why the complexity? The reason is that in the above, `double` is a recursive function. You might remember from TAPL that unrestricted general recursion can make any type inhabited. By Curry-Howard correspondance, it means that any proposition can be proved true!\n",
    "\n",
    "Consequently, recursive functions must terminate in order to be accepted by Coq. Coq uses a simple mechanism to check termination of recursive calls, namely _structural recursion_: the recursive call must take an argument which is _structurally_ smaller."
   ]
  },
  {
   "cell_type": "code",
   "execution_count": null,
   "metadata": {
    "coq_kernel_metadata": {
     "auto_roll_back": false,
     "cell_id": "c4f04b9368c949208d3515ae3d68b6ad",
     "evaluated": true,
     "execution_id": "d1b95e42535a450eb5623a10c461aea8",
     "rolled_back": false
    }
   },
   "outputs": [],
   "source": [
    "Fixpoint plus (n : nat) (m : nat) : nat :=\n",
    "  match n with\n",
    "    | O => m\n",
    "    | S n' => S (plus n' m)\n",
    "  end."
   ]
  },
  {
   "cell_type": "markdown",
   "metadata": {
    "coq_kernel_metadata": {
     "auto_roll_back": true
    }
   },
   "source": [
    "**Exercise 1**: Factorial\n",
    "\n",
    "Please implement the `factorial` function given below:"
   ]
  },
  {
   "cell_type": "code",
   "execution_count": null,
   "metadata": {
    "coq_kernel_metadata": {
     "auto_roll_back": false,
     "cell_id": "0cb6608112e24ff78a712bef767759eb",
     "evaluated": true,
     "execution_id": "11ef805b36d749838f1ec162fbe8c29f",
     "rolled_back": false
    }
   },
   "outputs": [],
   "source": [
    "Fixpoint factorial (n:nat) : nat\n",
    "  (* := ??? *). Admitted."
   ]
  },
  {
   "cell_type": "code",
   "execution_count": null,
   "metadata": {
    "coq_kernel_metadata": {
     "auto_roll_back": false,
     "cell_id": "14489fdaadc148658339f13e9dc0bb82",
     "evaluated": true,
     "execution_id": "56691deb5ff94a7890e7ff27b6e88de8",
     "rolled_back": false
    }
   },
   "outputs": [],
   "source": [
    "end FPPlayground."
   ]
  },
  {
   "cell_type": "markdown",
   "metadata": {
    "coq_kernel_metadata": {
     "auto_roll_back": true
    }
   },
   "source": [
    "## Curry-Howard correspondence"
   ]
  },
  {
   "cell_type": "markdown",
   "metadata": {
    "coq_kernel_metadata": {
     "auto_roll_back": true
    }
   },
   "source": [
    "As we learned from class lectures, [Curry-Howard correspondence](https://en.wikipedia.org/wiki/Curry%E2%80%93Howard_correspondence) plays a critical role in proof assitants that are based on type theories. The key insight is that\n",
    "\n",
    "- proofs are programs, and\n",
    "- propositions are types\n",
    "\n",
    "To show that a proposition is provable, it suffices to show that the corresponding types are inhabited by a program. In this section we will see how this correspondence is embodied in Coq."
   ]
  },
  {
   "cell_type": "markdown",
   "metadata": {
    "coq_kernel_metadata": {
     "auto_roll_back": true
    }
   },
   "source": [
    "**Implication**. The most important correspondence is between the function type `A -> B` and implication `A -> B`. Consequently, the proof of `A -> B` is a function of the type `A -> B`. By the [BHK interpretation](https://en.wikipedia.org/wiki/Brouwer%E2%80%93Heyting%E2%80%93Kolmogorov_interpretation) of intutionist logic, a function that proves `A -> B` basically transforms the proof of `A` to the proof of `B`.\n"
   ]
  },
  {
   "cell_type": "markdown",
   "metadata": {
    "coq_kernel_metadata": {
     "auto_roll_back": true,
     "cell_id": "7a0d62b4b0ff462c8146505f924f8b65",
     "evaluated": true,
     "execution_id": "1fbfd4d5c4e642a1825792ab6fb96934",
     "rolled_back": false
    }
   },
   "source": [
    "**Conjunction**. The proposition `A /\\ B` is represented by a product type:\n",
    "\n",
    "\n",
    "```Coq\n",
    "Inductive and (A B:Prop) : Prop :=\n",
    "  conj : A -> B -> A /\\ B\n",
    "where \"A /\\ B\" := (and A B) : type_scope.\n",
    "```\n",
    "\n",
    "Note that the constructor `conj` has the type `A -> B -> A /\\ B`, which can be read as _given a proof of A and a proof of B, then we can construct a proof of A /\\ B_.\n"
   ]
  },
  {
   "cell_type": "markdown",
   "metadata": {
    "coq_kernel_metadata": {
     "auto_roll_back": true
    }
   },
   "source": [
    "**Disjunction**. A disjunction `A \\/ B` means either we have a proof of `A` or a proof of `B`, thus it is naturally represented by a sum type:\n",
    "\n",
    "```Coq\n",
    "Inductive or (A B:Prop) : Prop :=\n",
    "  | or_introl : A -> A \\/ B\n",
    "  | or_intror : B -> A \\/ B\n",
    "where \"A \\/ B\" := (or A B) : type_scope.\n",
    "```"
   ]
  },
  {
   "cell_type": "markdown",
   "metadata": {
    "coq_kernel_metadata": {
     "auto_roll_back": true
    }
   },
   "source": [
    "**If and only if**. The proposition `A <-> B` is embodied by the type `(A -> B) /\\ (B -> A)`, consequently the proof will be a tuple of functions.\n",
    "\n",
    "```Coq\n",
    "Definition iff (A B:Prop) := (A -> B) /\\ (B -> A).\n",
    "Notation \"A <-> B\" := (iff A B) : type_scope.\n",
    "```"
   ]
  },
  {
   "cell_type": "markdown",
   "metadata": {
    "coq_kernel_metadata": {
     "auto_roll_back": true
    }
   },
   "source": [
    "**False**. Which type corresponds to the proposition `False`? As we can never prove `False`, it should correspond to a type that is not inhabited. This can be done in Coq by defining an inductive type without any constructors, thus it is impossible for a term to inhabit the type.\n",
    "\n",
    "```Coq\n",
    "Inductive False : Prop :=.\n",
    "```"
   ]
  },
  {
   "cell_type": "markdown",
   "metadata": {
    "coq_kernel_metadata": {
     "auto_roll_back": true
    }
   },
   "source": [
    "**Negation**. How to represent the proposition `~A` in types? In intutionistic logic, `~A` is interpreted as `A -> False`, i.e., a proof of `A` will lead to absurdity.\n",
    "\n",
    "```Coq\n",
    "Definition not (A:Prop) := A -> False.\n",
    "```\n",
    "\n",
    "Consequently, `~~A` is the same as `(A -> False) -> False`."
   ]
  },
  {
   "cell_type": "markdown",
   "metadata": {
    "coq_kernel_metadata": {
     "auto_roll_back": true
    }
   },
   "source": [
    "As an exercise, let's prove the following theorem, which says that for any proposition `P`, we may prove `~~P` from `P`:"
   ]
  },
  {
   "cell_type": "code",
   "execution_count": null,
   "metadata": {
    "coq_kernel_metadata": {
     "auto_roll_back": true,
     "cell_id": "831d96b8c3724128bcc334274351aafd",
     "evaluated": true,
     "execution_id": "6a5cd27eb7a048b084111329a2cee879",
     "rolled_back": false
    }
   },
   "outputs": [],
   "source": [
    "Definition neg_fun_prop: Prop := forall P: Prop, P -> ~~P."
   ]
  },
  {
   "cell_type": "markdown",
   "metadata": {
    "coq_kernel_metadata": {
     "auto_roll_back": true
    }
   },
   "source": [
    "The proof is just a function that has the type `neg_fun_prop`:"
   ]
  },
  {
   "cell_type": "code",
   "execution_count": null,
   "metadata": {
    "coq_kernel_metadata": {
     "auto_roll_back": true,
     "cell_id": "b9482d2f67e940d78d8a5741e7398660",
     "evaluated": true,
     "execution_id": "8e332901e2be484480eeac78483aee94",
     "rolled_back": false
    }
   },
   "outputs": [],
   "source": [
    "Definition neg_fun_proof := fun (P:Prop) (p: P) (np: ~P) => np p."
   ]
  },
  {
   "cell_type": "markdown",
   "metadata": {
    "coq_kernel_metadata": {
     "auto_roll_back": true
    }
   },
   "source": [
    "Let's check the type to see it's indeed the proof:"
   ]
  },
  {
   "cell_type": "code",
   "execution_count": null,
   "metadata": {
    "coq_kernel_metadata": {
     "auto_roll_back": true,
     "cell_id": "13a2d36fd1a0491b81d4253db80542dc",
     "evaluated": true,
     "execution_id": "3c9c2bc6fa614594a0c0804973033dd3",
     "rolled_back": false
    },
    "scrolled": true
   },
   "outputs": [],
   "source": [
    "Check neg_fun_proof."
   ]
  },
  {
   "cell_type": "markdown",
   "metadata": {
    "coq_kernel_metadata": {
     "auto_roll_back": true
    }
   },
   "source": [
    "The type is equivalent to `neg_fun_prop`:"
   ]
  },
  {
   "cell_type": "code",
   "execution_count": null,
   "metadata": {
    "coq_kernel_metadata": {
     "auto_roll_back": true,
     "cell_id": "586077082dd84a10a273b59186dc37ad",
     "evaluated": true,
     "execution_id": "6235c5e77ee0447e862ad84021fddac0",
     "rolled_back": false
    }
   },
   "outputs": [],
   "source": [
    "Check neg_fun_proof: neg_fun_prop."
   ]
  },
  {
   "cell_type": "markdown",
   "metadata": {
    "coq_kernel_metadata": {
     "auto_roll_back": true
    }
   },
   "source": [
    "## First-order logic\n",
    "\n",
    "So far, what we have seen are formulas of propositional logic. You might be wondering, what about first-order logic formulas, e.g. $\\forall x \\in A.P(x)$ and $\\exists x \\in A.P(x)$? That leads us to [dependent types](https://en.wikipedia.org/wiki/Dependent_type). Coq is based on a dependent type theory called [calculus of inductive construction](https://en.wikipedia.org/wiki/Calculus_of_constructions).\n",
    "\n",
    "The most important type in dependent type theories is the $\\Pi$-type, which is of the form $\\Pi_{x:A}B(x)$. $\\Pi$ types denote _dependent types_, whose return _type_ depends on the parameter of the function. In Coq, the $\\Pi$ type is written as `forall x:A, B`. We illustrate by proving the following theorem:\n",
    "\n",
    "$$\\forall x \\in nat. even(double(x))$$\n"
   ]
  },
  {
   "cell_type": "markdown",
   "metadata": {
    "coq_kernel_metadata": {
     "auto_roll_back": true
    }
   },
   "source": [
    "First, we reproduce our definitions of `nat` and `double` below."
   ]
  },
  {
   "cell_type": "code",
   "execution_count": null,
   "metadata": {
    "coq_kernel_metadata": {
     "auto_roll_back": true,
     "cell_id": "61ba391910a54ac0814bbef6725ab970",
     "evaluated": true,
     "execution_id": "8d0c33444f6a4c8e9c686775ac006400",
     "rolled_back": true
    }
   },
   "outputs": [],
   "source": [
    "Module FOPlayground.\n",
    "\n",
    "Inductive nat : Type :=\n",
    "  | O\n",
    "  | S (n : nat).\n",
    "\n",
    "Fixpoint double (n : nat) : nat :=\n",
    "  match n with\n",
    "    | O => O\n",
    "    | S n' => S (S (double n'))\n",
    "  end."
   ]
  },
  {
   "cell_type": "markdown",
   "metadata": {
    "coq_kernel_metadata": {
     "auto_roll_back": true
    }
   },
   "source": [
    "First, we need to define the predicate `even`: "
   ]
  },
  {
   "cell_type": "code",
   "execution_count": null,
   "metadata": {
    "coq_kernel_metadata": {
     "auto_roll_back": true,
     "cell_id": "09ffd57eeb1941de8221c6719e68dde9",
     "evaluated": true,
     "execution_id": "bd3e54e675cd4c9e8777383d4a4f53aa",
     "rolled_back": false
    },
    "scrolled": true
   },
   "outputs": [],
   "source": [
    "Inductive even : nat -> Prop :=\n",
    "  | even0 : even O\n",
    "  | evenS : forall x:nat, even x -> even (S (S x))."
   ]
  },
  {
   "cell_type": "markdown",
   "metadata": {
    "coq_kernel_metadata": {
     "auto_roll_back": true
    }
   },
   "source": [
    "The definition says that `O` is even, and if `x` is even, then `S S x` is even. Now we can define the proposition formally:"
   ]
  },
  {
   "cell_type": "code",
   "execution_count": null,
   "metadata": {
    "coq_kernel_metadata": {
     "auto_roll_back": true,
     "cell_id": "cfcf5eb35c6d49d88baeef49279f372e",
     "evaluated": true,
     "execution_id": "ea98867bac2045c28dc13ba60724860d",
     "rolled_back": false
    }
   },
   "outputs": [],
   "source": [
    "Definition even_prop: Prop := forall x:nat, even (double x)."
   ]
  },
  {
   "cell_type": "markdown",
   "metadata": {
    "coq_kernel_metadata": {
     "auto_roll_back": true
    }
   },
   "source": [
    "For the proof, we will need a clever helper function `even_rec`, which is defined below:"
   ]
  },
  {
   "cell_type": "code",
   "execution_count": null,
   "metadata": {
    "coq_kernel_metadata": {
     "auto_roll_back": true,
     "cell_id": "d4e3c85d423444739db229ca5057cff0",
     "evaluated": true,
     "execution_id": "1a59af69f6a2421e9117e9b0c38a2400",
     "rolled_back": false
    }
   },
   "outputs": [],
   "source": [
    "Fixpoint even_rec(m: nat)(p0: (even (double O)))(pS: forall n:nat, (even (double n)) -> (even (double (S n)))): even (double m) :=\n",
    "  match m with\n",
    "    | O => p0\n",
    "    | S n' => pS n' (even_rec n' p0 pS)\n",
    "  end."
   ]
  },
  {
   "cell_type": "markdown",
   "metadata": {
    "coq_kernel_metadata": {
     "auto_roll_back": true,
     "cell_id": "bb632721e4ae416a8334d263d9271d51",
     "evaluated": false,
     "execution_id": "6db1579db6b44218a35631b8956f1bca",
     "rolled_back": true
    }
   },
   "source": [
    "Note that in the above, the recursion is well-founded, because it is structurally decreasing on `m`. With the helper function, we may write the proof, which is a dependent function:"
   ]
  },
  {
   "cell_type": "code",
   "execution_count": null,
   "metadata": {
    "coq_kernel_metadata": {
     "auto_roll_back": true,
     "cell_id": "db270da8cd334dfd82e20520ed722cb7",
     "evaluated": true,
     "execution_id": "93200cc4fc254416a90d6184d09e7c7c",
     "rolled_back": false
    }
   },
   "outputs": [],
   "source": [
    "Definition even_proof :=\n",
    "  fun n => even_rec n even0 (fun m evenN => (evenS (double m) evenN))."
   ]
  },
  {
   "cell_type": "markdown",
   "metadata": {
    "coq_kernel_metadata": {
     "auto_roll_back": true
    }
   },
   "source": [
    "We can check the type to see we actually proved the theorem:"
   ]
  },
  {
   "cell_type": "code",
   "execution_count": null,
   "metadata": {
    "coq_kernel_metadata": {
     "auto_roll_back": true,
     "cell_id": "d54fc4d9eb744396add9627e2efb5a52",
     "evaluated": true,
     "execution_id": "0e5a0a541eff46ff80cbc3e778ed3efd",
     "rolled_back": true
    }
   },
   "outputs": [],
   "source": [
    "Check even_proof."
   ]
  },
  {
   "cell_type": "code",
   "execution_count": null,
   "metadata": {
    "coq_kernel_metadata": {
     "auto_roll_back": true,
     "cell_id": "2cbf0d537c5f4f1e85bfa50fbff31c01",
     "evaluated": false,
     "execution_id": "a016362aa12c433bb76d2000e64641bd",
     "rolled_back": false
    }
   },
   "outputs": [],
   "source": [
    "end FOPlayground.\n"
   ]
  },
  {
   "cell_type": "markdown",
   "metadata": {
    "coq_kernel_metadata": {
     "auto_roll_back": true
    }
   },
   "source": [
    "From the above, it is clear that universal quantification can be encoded as $\\Pi$ types. But what about existential quantification? In Coq, existential quantification is encoded as follows:\n",
    "\n",
    "```Coq\n",
    "Inductive ex (A:Type) (P:A -> Prop) : Prop :=\n",
    "  ex_intro : forall x:A, P x -> ex (A:=A) P.\n",
    "```"
   ]
  },
  {
   "cell_type": "markdown",
   "metadata": {
    "coq_kernel_metadata": {
     "auto_roll_back": true
    }
   },
   "source": [
    "Equality (strictly speaking _propositional equality_) is also encoded by an inductive type:\n",
    "\n",
    "```Coq\n",
    "Inductive eq (A:Type) (x:A) : A -> Prop :=\n",
    "    eq_refl : x = x :>A\n",
    "```"
   ]
  },
  {
   "cell_type": "markdown",
   "metadata": {
    "coq_kernel_metadata": {
     "auto_roll_back": true
    }
   },
   "source": [
    "You may find more information about the encoding of logic in Coq here: https://coq.inria.fr/stdlib/Coq.Init.Logic.html."
   ]
  },
  {
   "cell_type": "markdown",
   "metadata": {
    "coq_kernel_metadata": {
     "auto_roll_back": true,
     "cell_id": "85ac1cf00569470989c9e3302ba7bf30",
     "evaluated": false,
     "execution_id": "37ec84e6650f49d6b2ba6072ab9385b7",
     "rolled_back": false
    }
   },
   "source": [
    "**Exercise 2**: Define a predicate `odd`, and prove that `forall n:nat, odd (S (double n))`."
   ]
  },
  {
   "cell_type": "markdown",
   "metadata": {
    "coq_kernel_metadata": {
     "auto_roll_back": true
    }
   },
   "source": [
    "## Introduction to proofs by tatics"
   ]
  },
  {
   "cell_type": "markdown",
   "metadata": {
    "coq_kernel_metadata": {
     "auto_roll_back": true
    }
   },
   "source": [
    "## The equivalence between LEM and DNE"
   ]
  },
  {
   "cell_type": "markdown",
   "metadata": {
    "coq_kernel_metadata": {
     "auto_roll_back": true
    }
   },
   "source": [
    "## The soundness of STLC"
   ]
  },
  {
   "cell_type": "markdown",
   "metadata": {
    "coq_kernel_metadata": {
     "auto_roll_back": true
    }
   },
   "source": [
    "## Going further"
   ]
  },
  {
   "cell_type": "code",
   "execution_count": null,
   "metadata": {
    "coq_kernel_metadata": {
     "auto_roll_back": true,
     "cell_id": "5ae857805f734cbb81c63c09d13bb911",
     "execution_id": "0337dd6b408e4eaa8f74445f51ab0298"
    }
   },
   "outputs": [],
   "source": [
    "Theorem implication :\n",
    "  forall A B : Prop,\n",
    "  A ->\n",
    "  (A -> B) ->\n",
    "  B\n",
    "."
   ]
  },
  {
   "cell_type": "code",
   "execution_count": null,
   "metadata": {
    "coq_kernel_metadata": {
     "auto_roll_back": true,
     "cell_id": "cea5a3c4c3964062b2c6b8b142f0be5e",
     "execution_id": "5926e563d0b24d3ea30e1f490d0d8460"
    }
   },
   "outputs": [],
   "source": [
    "Proof.\n",
    "  intros A B.\n",
    "  intros proof_of_A.\n",
    "  intros A_implies_B.\n",
    "  pose (proof_of_B := A_implies_B proof_of_A).\n",
    "  exact proof_of_B.\n",
    "Qed."
   ]
  }
 ],
 "metadata": {
  "kernelspec": {
   "display_name": "Coq",
   "language": "coq",
   "name": "coq"
  },
  "language_info": {
   "file_extension": ".v",
   "mimetype": "text/x-coq",
   "name": "coq",
   "version": "8.9.1"
  }
 },
 "nbformat": 4,
 "nbformat_minor": 2
}
